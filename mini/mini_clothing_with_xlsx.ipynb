{
  "nbformat": 4,
  "nbformat_minor": 0,
  "metadata": {
    "colab": {
      "name": "mini_clothing with xlsx.ipynb",
      "provenance": []
    },
    "kernelspec": {
      "name": "python3",
      "display_name": "Python 3"
    },
    "language_info": {
      "name": "python"
    }
  },
  "cells": [
    {
      "cell_type": "code",
      "execution_count": 1,
      "metadata": {
        "id": "f-6Fo4WLE2Wn"
      },
      "outputs": [],
      "source": [
        "import pandas as pd\n",
        "from pandas import ExcelWriter\n",
        "from pandas import ExcelFile\n",
        "from sklearn.model_selection import train_test_split\n",
        "import numpy as np\n",
        "from sklearn.metrics import classification_report, confusion_matrix"
      ]
    },
    {
      "cell_type": "code",
      "source": [
        "%cd /content/drive/MyDrive/Colab Notebooks/mini_project"
      ],
      "metadata": {
        "colab": {
          "base_uri": "https://localhost:8080/"
        },
        "id": "Am5xW6v8WNJ4",
        "outputId": "223c02b8-233e-421f-9a78-b9ad4a71fd6d"
      },
      "execution_count": 2,
      "outputs": [
        {
          "output_type": "stream",
          "name": "stdout",
          "text": [
            "/content/drive/MyDrive/Colab Notebooks/mini_project\n"
          ]
        }
      ]
    },
    {
      "cell_type": "code",
      "source": [
        "data = pd.read_excel('dataset_cloth_recom.xlsx')"
      ],
      "metadata": {
        "id": "eOHPIRXlE-Xf"
      },
      "execution_count": 3,
      "outputs": []
    },
    {
      "cell_type": "code",
      "source": [
        "print(data.head(10))"
      ],
      "metadata": {
        "colab": {
          "base_uri": "https://localhost:8080/"
        },
        "id": "bDut4A0fE-aG",
        "outputId": "5bb2d563-688d-4e46-9703-f4026288c642"
      },
      "execution_count": 4,
      "outputs": [
        {
          "output_type": "stream",
          "name": "stdout",
          "text": [
            "   fit  user_id bust size  item_id  weight  ...  category height  size    age product\n",
            "0  fit   420272       34d  2260466  137lbs  ...    romper  5' 8\"  14.0   28.0   1.jpg\n",
            "1  fit   273551       34b   153475  132lbs  ...      gown  5' 6\"  12.0   36.0   2.jpg\n",
            "2  fit   360448       NaN  1063761     NaN  ...    sheath  5' 4\"   4.0  116.0  15.jpg\n",
            "3  fit   909926       34c   126335  135lbs  ...     dress  5' 5\"   8.0   34.0   4.jpg\n",
            "4  fit   151944       34b   616682  145lbs  ...      gown  5' 9\"  12.0   27.0   5.jpg\n",
            "5  fit   734848       32b   364092  138lbs  ...     dress  5' 8\"   8.0   45.0   6.jpg\n",
            "6  fit   336066       34c   568429  112lbs  ...     dress  5' 3\"   4.0   27.0   7.jpg\n",
            "7  fit    86661      34d+   130259  118lbs  ...     dress  5' 3\"   8.0   65.0   8.jpg\n",
            "8  fit   166228       36d  1729232     NaN  ...      gown  5' 6\"  21.0   27.0   9.jpg\n",
            "9  fit   126461       36c   132135  129lbs  ...      gown  5' 6\"   7.0   20.0  10.jpg\n",
            "\n",
            "[10 rows x 15 columns]\n"
          ]
        }
      ]
    },
    {
      "cell_type": "code",
      "source": [
        "data.dtypes"
      ],
      "metadata": {
        "id": "YXtBe2AnF6oj",
        "colab": {
          "base_uri": "https://localhost:8080/"
        },
        "outputId": "014a62b4-4986-439a-90d1-96ed6630b73e"
      },
      "execution_count": 5,
      "outputs": [
        {
          "output_type": "execute_result",
          "data": {
            "text/plain": [
              "fit                object\n",
              "user_id             int64\n",
              "bust size          object\n",
              "item_id             int64\n",
              "weight             object\n",
              "rating              int64\n",
              "rented for         object\n",
              "review_text        object\n",
              "body type          object\n",
              "review_summary     object\n",
              "category           object\n",
              "height             object\n",
              "size              float64\n",
              "age               float64\n",
              "product            object\n",
              "dtype: object"
            ]
          },
          "metadata": {},
          "execution_count": 5
        }
      ]
    },
    {
      "cell_type": "code",
      "source": [
        "pip install surprise"
      ],
      "metadata": {
        "id": "0MfKK8nrIxJ4",
        "colab": {
          "base_uri": "https://localhost:8080/"
        },
        "outputId": "efac26fd-88cf-4aa7-ac74-c752bd233ea6"
      },
      "execution_count": 6,
      "outputs": [
        {
          "output_type": "stream",
          "name": "stdout",
          "text": [
            "Collecting surprise\n",
            "  Downloading surprise-0.1-py2.py3-none-any.whl (1.8 kB)\n",
            "Collecting scikit-surprise\n",
            "  Downloading scikit-surprise-1.1.1.tar.gz (11.8 MB)\n",
            "\u001b[K     |████████████████████████████████| 11.8 MB 20.4 MB/s \n",
            "\u001b[?25hRequirement already satisfied: joblib>=0.11 in /usr/local/lib/python3.7/dist-packages (from scikit-surprise->surprise) (1.1.0)\n",
            "Requirement already satisfied: numpy>=1.11.2 in /usr/local/lib/python3.7/dist-packages (from scikit-surprise->surprise) (1.21.5)\n",
            "Requirement already satisfied: scipy>=1.0.0 in /usr/local/lib/python3.7/dist-packages (from scikit-surprise->surprise) (1.4.1)\n",
            "Requirement already satisfied: six>=1.10.0 in /usr/local/lib/python3.7/dist-packages (from scikit-surprise->surprise) (1.15.0)\n",
            "Building wheels for collected packages: scikit-surprise\n",
            "  Building wheel for scikit-surprise (setup.py) ... \u001b[?25l\u001b[?25hdone\n",
            "  Created wheel for scikit-surprise: filename=scikit_surprise-1.1.1-cp37-cp37m-linux_x86_64.whl size=1630067 sha256=86e97b13fdd0bfb6644d6e54d9c3f9557f810fc677d4e2cd53a0e6a32336cf30\n",
            "  Stored in directory: /root/.cache/pip/wheels/76/44/74/b498c42be47b2406bd27994e16c5188e337c657025ab400c1c\n",
            "Successfully built scikit-surprise\n",
            "Installing collected packages: scikit-surprise, surprise\n",
            "Successfully installed scikit-surprise-1.1.1 surprise-0.1\n"
          ]
        }
      ]
    },
    {
      "cell_type": "code",
      "source": [
        "from surprise import Dataset\n",
        "from surprise import Reader\n",
        "import os, io\n",
        "from surprise import SVD\n",
        "from surprise import accuracy"
      ],
      "metadata": {
        "id": "OsHKCpLvE-c1"
      },
      "execution_count": 7,
      "outputs": []
    },
    {
      "cell_type": "code",
      "source": [
        "train, test = train_test_split(data, test_size=0.2)"
      ],
      "metadata": {
        "id": "hvj8r8dS32oK"
      },
      "execution_count": 8,
      "outputs": []
    },
    {
      "cell_type": "code",
      "source": [
        "def preprocessAge(data):\n",
        "  bins = pd.IntervalIndex.from_tuples([(5, 15), (15, 30), (30, 50),(50,65),(65,100)])\n",
        "  x = pd.cut(data['age'].to_list(), bins)\n",
        "  x.categories = ['1','2','3','4','5']\n",
        "  data['age_bins']  = x\n",
        "  age_Preprocessed_data = data[~data['age_bins'].isnull()]\n",
        "  # print ('{0} rows got dropped after age preprocessing'.format(str(data.shape[0] - age_Preprocessed_data.shape[0])))\n",
        "  return age_Preprocessed_data"
      ],
      "metadata": {
        "id": "ZA6UT5IpKDJ4"
      },
      "execution_count": 9,
      "outputs": []
    },
    {
      "cell_type": "code",
      "source": [
        "def preprocessBustsize(age_Preprocessed_data):\n",
        "  data_bust_size_not_null = age_Preprocessed_data[~age_Preprocessed_data['bust size'].isnull()]\n",
        "  data_bust_size_not_null['bust size'] = data_bust_size_not_null['bust size'].apply(lambda x : (int(x[:2]), x[2:]))\n",
        "  data_bust_size_not_null.shape\n",
        "  data_bust_size_not_null[['bust Size1', 'bust']] = pd.DataFrame(data_bust_size_not_null['bust size'].tolist(), index=data_bust_size_not_null.index)\n",
        "  bustDict = {'a': 1, 'aa': 1, 'b': 2, 'c': 3, 'd': 4, \n",
        "            'd+': 5, 'dd': 5, 'ddd/e': 6,\n",
        "           'f':7 , 'g': 8, 'h': 9, 'i': 10, 'j': 11}\n",
        "  data_bust_size_not_null['bust1'] = data_bust_size_not_null['bust'].map(bustDict)\n",
        "  # Calculating model of bust size based on age grp.\n",
        "  def funct(df):\n",
        "    return df.mode()\n",
        "  x = data_bust_size_not_null[['age_bins','bust Size1','bust1']].groupby('age_bins').apply(funct)\n",
        "  x.reset_index(inplace= True, drop = True)\n",
        "  data_bust_size_null = age_Preprocessed_data[age_Preprocessed_data['bust size'].isnull()]\n",
        "  data_bust_size_null = pd.merge(data_bust_size_null, x, how ='left', left_on = 'age_bins', right_on = 'age_bins')\n",
        "  data_bust_size_cleansed = data_bust_size_not_null.append(data_bust_size_null)\n",
        "  return data_bust_size_cleansed"
      ],
      "metadata": {
        "id": "dUSyjDXIF3Fh"
      },
      "execution_count": 10,
      "outputs": []
    },
    {
      "cell_type": "code",
      "source": [
        "def preprocessHeight(data_bust_size_cleansed):\n",
        "  data_bust_size_cleansed['heightCM'] = data_bust_size_cleansed['height'].apply(lambda x : (int(x.split(\"\\'\")[0]) * 30.48) + (int(x.split(\"\\'\")[1][:-1]) * 2.54) \n",
        "                                                        if type(x) == str else x)\n",
        "  data_bust_size_cleansed['heightCM'].fillna((data_bust_size_cleansed['heightCM'].mean()), inplace=True)\n",
        "  return data_bust_size_cleansed"
      ],
      "metadata": {
        "id": "WT66KENaE-fH"
      },
      "execution_count": 11,
      "outputs": []
    },
    {
      "cell_type": "code",
      "source": [
        "def preprocessWeight(data_bust_size_cleansed):\n",
        "  data_bust_size_cleansed['weightLbs'] = data_bust_size_cleansed['weight'].apply(lambda x : int(x[:-3])                                                        if type(x) == str else x)\n",
        "  data_bust_size_cleansed['weightLbs'].fillna((data_bust_size_cleansed['weightLbs'].mean()), inplace=True)\n",
        "  return data_bust_size_cleansed"
      ],
      "metadata": {
        "id": "fAKmBRmX76fG"
      },
      "execution_count": 12,
      "outputs": []
    },
    {
      "cell_type": "code",
      "source": [
        "def preprocessRentedFor(data_bust_size_cleansed):\n",
        "  data_bust_size_cleansed['rented for'].fillna('other', inplace=True)\n",
        "  return data_bust_size_cleansed"
      ],
      "metadata": {
        "id": "3KWxMDir8d4S"
      },
      "execution_count": 13,
      "outputs": []
    },
    {
      "cell_type": "code",
      "source": [
        "def preprocessBodytype(data_bust_size_cleansed):\n",
        "  # Calculating model of body type based on Bust Size.\n",
        "  data_body_type_not_null = data_bust_size_cleansed[~data_bust_size_cleansed['body type'].isnull()]\n",
        "  def func(df):\n",
        "    return df.mode()\n",
        "  x = data_body_type_not_null[['bust Size1','body type']].groupby('bust Size1').apply(func)\n",
        "  x.reset_index(inplace= True, drop = True)\n",
        "  # print(x)\n",
        "  data_body_type_null = data_bust_size_cleansed[data_bust_size_cleansed['body type'].isnull()]\n",
        "  data_body_type_null = pd.merge(data_body_type_null, x, how ='left', left_on = 'bust Size1', right_on = 'bust Size1')\n",
        "  # print(data_body_type_null)\n",
        "  data_body_type_cleansed = data_body_type_not_null.append(data_body_type_null,sort=True)\n",
        "  # print(data_body_type_cleansed)\n",
        "  data_body_type_cleansed['body type'].fillna(data_body_type_cleansed['body type_y'], inplace=True)\n",
        "  del data_body_type_cleansed['body type_x']\n",
        "  del data_body_type_cleansed['body type_y']\n",
        "  return data_body_type_cleansed"
      ],
      "metadata": {
        "id": "xwQZQA068d7u"
      },
      "execution_count": 14,
      "outputs": []
    },
    {
      "cell_type": "code",
      "source": [
        "def createFinalDataframe(cleansedData):\n",
        "  final_df=cleansedData.copy()\n",
        "  final_df=final_df.drop(['rented for','rating','category','age_bins','bust','bust size','fit','height','item_id','review_summary','user_id','weight','review_text'],axis=1)\n",
        "  cleanup_nums = {\"body type\":     {\"hourglass\": 1, \"straight & narrow\": 2, \"pear\": 3,\"athletic\": 4, \"full bust\": 5,\"petite\": 6, \"apple\": 7}}\n",
        "  final_df.replace(cleanup_nums, inplace=True)\n",
        "  return final_df"
      ],
      "metadata": {
        "id": "zdlQoz4z3ptC"
      },
      "execution_count": 15,
      "outputs": []
    },
    {
      "cell_type": "code",
      "source": [
        "def createFinalTestDataframe(cleansedData):\n",
        "  final_df=cleansedData.copy()\n",
        "  final_df=final_df.drop(['rating','category','age_bins','bust','bust size','fit','height','item_id','review_summary','weight','review_text'],axis=1)\n",
        "  cleanup_nums = {\"body type\":     {\"hourglass\": 1, \"straight & narrow\": 2, \"pear\": 3,\"athletic\": 4, \"full bust\": 5,\"petite\": 6, \"apple\": 7}}\n",
        "  final_df.replace(cleanup_nums, inplace=True)\n",
        "  return final_df"
      ],
      "metadata": {
        "id": "93PJLcFF3pwY"
      },
      "execution_count": 16,
      "outputs": []
    },
    {
      "cell_type": "code",
      "source": [
        "age_Preprocessed_data=preprocessAge(train)\n",
        "data_bust_size_cleansed=preprocessBustsize(age_Preprocessed_data)\n",
        "data_bust_size_cleansed=preprocessHeight(data_bust_size_cleansed)\n",
        "data_bust_size_cleansed=preprocessWeight(data_bust_size_cleansed)\n",
        "data_bust_size_cleansed=preprocessRentedFor(data_bust_size_cleansed)\n",
        "cleansedData=preprocessBodytype(data_bust_size_cleansed)\n",
        "final_df=createFinalDataframe(cleansedData)"
      ],
      "metadata": {
        "colab": {
          "base_uri": "https://localhost:8080/"
        },
        "id": "mscmjP673yDD",
        "outputId": "5df71d40-2064-4e03-e404-30c9d8d46671"
      },
      "execution_count": 17,
      "outputs": [
        {
          "output_type": "stream",
          "name": "stderr",
          "text": [
            "/usr/local/lib/python3.7/dist-packages/ipykernel_launcher.py:3: SettingWithCopyWarning: \n",
            "A value is trying to be set on a copy of a slice from a DataFrame.\n",
            "Try using .loc[row_indexer,col_indexer] = value instead\n",
            "\n",
            "See the caveats in the documentation: https://pandas.pydata.org/pandas-docs/stable/user_guide/indexing.html#returning-a-view-versus-a-copy\n",
            "  This is separate from the ipykernel package so we can avoid doing imports until\n",
            "/usr/local/lib/python3.7/dist-packages/pandas/core/frame.py:3641: SettingWithCopyWarning: \n",
            "A value is trying to be set on a copy of a slice from a DataFrame.\n",
            "Try using .loc[row_indexer,col_indexer] = value instead\n",
            "\n",
            "See the caveats in the documentation: https://pandas.pydata.org/pandas-docs/stable/user_guide/indexing.html#returning-a-view-versus-a-copy\n",
            "  self[k1] = value[k2]\n",
            "/usr/local/lib/python3.7/dist-packages/ipykernel_launcher.py:9: SettingWithCopyWarning: \n",
            "A value is trying to be set on a copy of a slice from a DataFrame.\n",
            "Try using .loc[row_indexer,col_indexer] = value instead\n",
            "\n",
            "See the caveats in the documentation: https://pandas.pydata.org/pandas-docs/stable/user_guide/indexing.html#returning-a-view-versus-a-copy\n",
            "  if __name__ == '__main__':\n"
          ]
        }
      ]
    },
    {
      "cell_type": "code",
      "source": [
        "feature_names = ['age', 'bust Size1','bust1','size','heightCM','weightLbs']\n",
        "X = final_df[feature_names]\n",
        "y = final_df['body type']\n",
        "from sklearn.model_selection import train_test_split\n",
        "X_train, X_test, y_train, y_test = train_test_split(X, y, random_state=0)"
      ],
      "metadata": {
        "id": "xG94SlQj24i4"
      },
      "execution_count": 18,
      "outputs": []
    },
    {
      "cell_type": "code",
      "source": [
        "print(X)"
      ],
      "metadata": {
        "colab": {
          "base_uri": "https://localhost:8080/"
        },
        "id": "S6hzozi824lo",
        "outputId": "fd51f5c2-7b21-42cc-c743-bcdfeb40052b"
      },
      "execution_count": 19,
      "outputs": [
        {
          "output_type": "stream",
          "name": "stdout",
          "text": [
            "      age  bust Size1  bust1  size  heightCM   weightLbs\n",
            "45   20.0        32.0      2   4.0    177.80  125.000000\n",
            "100  28.0        34.0      4  16.0    154.94  145.000000\n",
            "22   27.0        32.0      1   1.0    152.40  105.000000\n",
            "33   36.0        32.0      4   8.0    167.64  125.000000\n",
            "5    45.0        32.0      2   8.0    172.72  138.000000\n",
            "..    ...         ...    ...   ...       ...         ...\n",
            "1    27.0        32.0      3   8.0    160.02  128.000000\n",
            "2    29.0        36.0      5  28.0    160.02  138.157143\n",
            "3    33.0        36.0      3  12.0    165.10  145.000000\n",
            "4    35.0        34.0      2  24.0    165.10  165.000000\n",
            "5    32.0        34.0      2   1.0    160.02  115.000000\n",
            "\n",
            "[81 rows x 6 columns]\n"
          ]
        }
      ]
    },
    {
      "cell_type": "code",
      "source": [
        "print(y)"
      ],
      "metadata": {
        "colab": {
          "base_uri": "https://localhost:8080/"
        },
        "id": "9QkCPl_k24n4",
        "outputId": "fa5ffba3-4464-406f-90fb-063df9448216"
      },
      "execution_count": 20,
      "outputs": [
        {
          "output_type": "stream",
          "name": "stdout",
          "text": [
            "45     2\n",
            "100    3\n",
            "22     4\n",
            "33     3\n",
            "5      4\n",
            "      ..\n",
            "1      4\n",
            "2      4\n",
            "3      4\n",
            "4      4\n",
            "5      4\n",
            "Name: body type, Length: 81, dtype: int64\n"
          ]
        }
      ]
    },
    {
      "cell_type": "code",
      "source": [
        "from sklearn.ensemble import RandomForestClassifier\n",
        "model = RandomForestClassifier(n_estimators=100, \n",
        "                               bootstrap = True,\n",
        "                               max_features = 'sqrt')\n",
        "model.fit(X_train, y_train)\n",
        "#y_pred = model.predict(X_test)\n",
        "#print(classification_report(y_test, y_pred))\n",
        "print('Accuracy of Random forest classifier on training set: {:.2f}'\n",
        "    .format(model.score(X_train, y_train)))\n",
        "print('Accuracy of Random forest classifier on test set: {:.2f}'\n",
        "     .format(model.score(X_test, y_test)))\n"
      ],
      "metadata": {
        "colab": {
          "base_uri": "https://localhost:8080/"
        },
        "id": "DNcktku724qH",
        "outputId": "1b5ae48a-9153-4431-ad15-91ecb366b649"
      },
      "execution_count": 21,
      "outputs": [
        {
          "output_type": "stream",
          "name": "stdout",
          "text": [
            "Accuracy of Random forest classifier on training set: 1.00\n",
            "Accuracy of Random forest classifier on test set: 0.29\n"
          ]
        }
      ]
    },
    {
      "cell_type": "code",
      "source": [
        "'''\n",
        "from sklearn.linear_model import LogisticRegression\n",
        "logreg = LogisticRegression()\n",
        "logreg.fit(X_train, y_train)\n",
        "y_pred = logreg.predict(X_test)\n",
        "print(classification_report(y_test, y_pred))\n",
        "#print('Accuracy of Logistic regression classifier on training set: {:.2f}'\n",
        " #    .format(logreg.score(X_train, y_train)))\n",
        "#print('Accuracy of Logistic regression classifier on test set: {:.2f}'\n",
        " #    .format(logreg.score(X_test, y_test)))\n",
        "'''"
      ],
      "metadata": {
        "colab": {
          "base_uri": "https://localhost:8080/",
          "height": 87
        },
        "id": "oQdGrSFOsOzg",
        "outputId": "2963079f-0128-4274-cc69-122bbc62b517"
      },
      "execution_count": null,
      "outputs": [
        {
          "output_type": "execute_result",
          "data": {
            "application/vnd.google.colaboratory.intrinsic+json": {
              "type": "string"
            },
            "text/plain": [
              "\"\\nfrom sklearn.linear_model import LogisticRegression\\nlogreg = LogisticRegression()\\nlogreg.fit(X_train, y_train)\\ny_pred = logreg.predict(X_test)\\nprint(classification_report(y_test, y_pred))\\n#print('Accuracy of Logistic regression classifier on training set: {:.2f}'\\n #    .format(logreg.score(X_train, y_train)))\\n#print('Accuracy of Logistic regression classifier on test set: {:.2f}'\\n #    .format(logreg.score(X_test, y_test)))\\n\""
            ]
          },
          "metadata": {},
          "execution_count": 35
        }
      ]
    },
    {
      "cell_type": "code",
      "source": [
        "'''\n",
        "from sklearn.neighbors import KNeighborsClassifier\n",
        "\n",
        "knn = KNeighborsClassifier()\n",
        "knn.fit(X_train, y_train)\n",
        "y_pred1 = knn.predict(X_test)\n",
        "#print(confusion_matrix(y_test, y_pred1))\n",
        "print(classification_report(y_test, y_pred1))\n",
        "#print('Accuracy of K-NN classifier on training set: {:.2f}'\n",
        " #    .format(knn.score(X_train, y_train)))\n",
        "#print('Accuracy of K-NN classifier on test set: {:.2f}'\n",
        " #    .format(knn.score(X_test, y_test)))\n",
        " '''"
      ],
      "metadata": {
        "colab": {
          "base_uri": "https://localhost:8080/",
          "height": 105
        },
        "id": "GT0SwMrvsUVP",
        "outputId": "8ae4a42e-126d-4b58-ab6b-60f8c8e0c90a"
      },
      "execution_count": null,
      "outputs": [
        {
          "output_type": "execute_result",
          "data": {
            "application/vnd.google.colaboratory.intrinsic+json": {
              "type": "string"
            },
            "text/plain": [
              "\"\\nfrom sklearn.neighbors import KNeighborsClassifier\\n\\nknn = KNeighborsClassifier()\\nknn.fit(X_train, y_train)\\ny_pred1 = knn.predict(X_test)\\n#print(confusion_matrix(y_test, y_pred1))\\nprint(classification_report(y_test, y_pred1))\\n#print('Accuracy of K-NN classifier on training set: {:.2f}'\\n #    .format(knn.score(X_train, y_train)))\\n#print('Accuracy of K-NN classifier on test set: {:.2f}'\\n #    .format(knn.score(X_test, y_test)))\\n \""
            ]
          },
          "metadata": {},
          "execution_count": 37
        }
      ]
    },
    {
      "cell_type": "code",
      "source": [
        "age_Preprocessed_testdata=preprocessAge(test)\n",
        "testdata_bust_size_cleansed=preprocessBustsize(age_Preprocessed_testdata)\n",
        "testdata_bust_size_cleansed=preprocessHeight(testdata_bust_size_cleansed)\n",
        "testdata_bust_size_cleansed=preprocessWeight(testdata_bust_size_cleansed)\n",
        "testdata_bust_size_cleansed=preprocessRentedFor(testdata_bust_size_cleansed)\n",
        "cleansedTestData=preprocessBodytype(testdata_bust_size_cleansed)\n",
        "final_test_df=createFinalTestDataframe(cleansedTestData)"
      ],
      "metadata": {
        "id": "JHBXyv4D4QNC",
        "colab": {
          "base_uri": "https://localhost:8080/"
        },
        "outputId": "f8281091-8f1a-4f84-d1f8-84642634e856"
      },
      "execution_count": 22,
      "outputs": [
        {
          "output_type": "stream",
          "name": "stderr",
          "text": [
            "/usr/local/lib/python3.7/dist-packages/ipykernel_launcher.py:3: SettingWithCopyWarning: \n",
            "A value is trying to be set on a copy of a slice from a DataFrame.\n",
            "Try using .loc[row_indexer,col_indexer] = value instead\n",
            "\n",
            "See the caveats in the documentation: https://pandas.pydata.org/pandas-docs/stable/user_guide/indexing.html#returning-a-view-versus-a-copy\n",
            "  This is separate from the ipykernel package so we can avoid doing imports until\n",
            "/usr/local/lib/python3.7/dist-packages/pandas/core/frame.py:3641: SettingWithCopyWarning: \n",
            "A value is trying to be set on a copy of a slice from a DataFrame.\n",
            "Try using .loc[row_indexer,col_indexer] = value instead\n",
            "\n",
            "See the caveats in the documentation: https://pandas.pydata.org/pandas-docs/stable/user_guide/indexing.html#returning-a-view-versus-a-copy\n",
            "  self[k1] = value[k2]\n",
            "/usr/local/lib/python3.7/dist-packages/ipykernel_launcher.py:9: SettingWithCopyWarning: \n",
            "A value is trying to be set on a copy of a slice from a DataFrame.\n",
            "Try using .loc[row_indexer,col_indexer] = value instead\n",
            "\n",
            "See the caveats in the documentation: https://pandas.pydata.org/pandas-docs/stable/user_guide/indexing.html#returning-a-view-versus-a-copy\n",
            "  if __name__ == '__main__':\n"
          ]
        }
      ]
    },
    {
      "cell_type": "code",
      "source": [
        "feature_names = ['age', 'bust Size1','bust1','size','heightCM','weightLbs','rented for','user_id']\n",
        "testdata = final_test_df[feature_names]"
      ],
      "metadata": {
        "id": "PdMNEqXt4QQC"
      },
      "execution_count": 23,
      "outputs": []
    },
    {
      "cell_type": "code",
      "source": [
        "for col in testdata.columns:\n",
        "    print(col)"
      ],
      "metadata": {
        "colab": {
          "base_uri": "https://localhost:8080/"
        },
        "id": "_5s8HaXX7LsT",
        "outputId": "f9e05bf0-3a8f-4475-9689-c1974d8ea9b9"
      },
      "execution_count": 24,
      "outputs": [
        {
          "output_type": "stream",
          "name": "stdout",
          "text": [
            "age\n",
            "bust Size1\n",
            "bust1\n",
            "size\n",
            "heightCM\n",
            "weightLbs\n",
            "rented for\n",
            "user_id\n"
          ]
        }
      ]
    },
    {
      "cell_type": "code",
      "source": [
        "print(testdata)"
      ],
      "metadata": {
        "colab": {
          "base_uri": "https://localhost:8080/"
        },
        "id": "actQUqww4QSy",
        "outputId": "d4e99f2b-b14a-4609-bdd4-d542182a804b"
      },
      "execution_count": 25,
      "outputs": [
        {
          "output_type": "stream",
          "name": "stdout",
          "text": [
            "      age  bust Size1  bust1  ...   weightLbs     rented for  user_id\n",
            "80   32.0          36      4  ...  151.000000        wedding   588841\n",
            "4    27.0          34      2  ...  145.000000        wedding   151944\n",
            "55   32.0          34      3  ...  140.000000           work   356530\n",
            "74   32.0          34      4  ...  115.000000  formal affair   262729\n",
            "9    20.0          36      3  ...  129.000000          other   126461\n",
            "21   34.0          34      4  ...  150.000000  formal affair    97848\n",
            "32   31.0          36      3  ...  132.000000          party   142342\n",
            "69   24.0          38      5  ...  210.000000          party   491589\n",
            "103  32.0          36      1  ...  150.000000        wedding   329989\n",
            "18   27.0          34      4  ...  155.000000  formal affair   507437\n",
            "52   30.0          32      3  ...  135.000000        wedding    12347\n",
            "72   77.0          36      3  ...  130.000000          other   861377\n",
            "39   37.0          34      3  ...  160.000000        wedding   870389\n",
            "92   32.0          34      3  ...  130.000000          party    41280\n",
            "61   34.0          34      2  ...  145.277778          party   242517\n",
            "56   43.0          34      3  ...  145.000000          party   822432\n",
            "14   35.0          38      2  ...  165.000000        wedding   505854\n",
            "84   45.0          32      6  ...  133.000000          party   967253\n",
            "24   30.0          38      4  ...  145.277778        wedding   425211\n",
            "30   39.0          36      4  ...  145.277778          other   648840\n",
            "0    27.0          34      3  ...  140.000000       everyday   549001\n",
            "\n",
            "[21 rows x 8 columns]\n"
          ]
        }
      ]
    },
    {
      "cell_type": "code",
      "source": [
        "import matplotlib.pyplot as plt\n",
        "import matplotlib.image as mpimg"
      ],
      "metadata": {
        "id": "4a67cGqu-bgM"
      },
      "execution_count": 26,
      "outputs": []
    },
    {
      "cell_type": "code",
      "source": [
        "#%cd .."
      ],
      "metadata": {
        "id": "RsfxYiPePuOT"
      },
      "execution_count": null,
      "outputs": []
    },
    {
      "cell_type": "code",
      "source": [
        "#ls"
      ],
      "metadata": {
        "id": "CoIgJ2ywV3Oq"
      },
      "execution_count": null,
      "outputs": []
    },
    {
      "cell_type": "code",
      "source": [
        "#cf_df=[]\n",
        "for i in range(1):#len(testdata)\n",
        "    age = testdata.iloc[i,0]\n",
        "    bustSize1 = testdata.iloc[i,1]\n",
        "    bust1 = testdata.iloc[i,2]\n",
        "    size = testdata.iloc[i,3]\n",
        "    heightCM = testdata.iloc[i,4]\n",
        "    weightLbs = testdata.iloc[i,5]\n",
        "    \n",
        "    xnew=[[age,bustSize1,bust1,size,heightCM,weightLbs]]\n",
        "    bodytypenumber=model.predict(xnew)\n",
        "    #print(\"Predicted body type:\",bodytypenumber)\n",
        "    \n",
        "    bodytypearray=[\"NaN\",\"hourglass\", \"straight & narrow\", \"pear\",\"athletic\", \"full bust\",\"petite\", \"apple\"]\n",
        "    bodytype=np.asanyarray(bodytypearray)[bodytypenumber]\n",
        "    print(\"Predicted body type:\",bodytype)\n",
        "    \n",
        "    cluster_df=cleansedData.copy()\n",
        "    groupedbybodytype = cluster_df.groupby('body type')\n",
        "    for name,group in groupedbybodytype:\n",
        "      if(bodytype==name):\n",
        "        #print(name)\n",
        "        #print(group)\n",
        "        grouped_df=group.copy()\n",
        "    rentedFor=testdata.iloc[i,6]\n",
        "    \n",
        "    groupedbybodytype = grouped_df.groupby('rented for')\n",
        "    for name,group in groupedbybodytype:\n",
        "      if(rentedFor==name):\n",
        "        #print(name)\n",
        "        #print(group)\n",
        "        cf_df=group.copy()\n",
        "    cf_df=cf_df[['user_id','item_id','rating']].copy()\n",
        "    \n",
        "    \n",
        "    reader = Reader(rating_scale=(1,10))\n",
        "    traindata=Dataset.load_from_df(cf_df,reader)\n",
        "    trainingSet = traindata.build_full_trainset()\n",
        "    \n",
        "    svdAlgo = SVD(n_factors=200,n_epochs=50)\n",
        "    svdAlgo.fit(trainingSet)\n",
        "    \n",
        "    itemid=cf_df['item_id'].unique()\n",
        "    ratingOutput = pd.DataFrame(columns=['item_id', 'rating']) #Create a blank df with 2 columns at first and then append data\n",
        "    \n",
        "    for i in range(len(itemid)):\n",
        "        user=cf_df.iloc[i,0] #User_id\n",
        "        item=cf_df.iloc[i,1] #Item_id\n",
        "        output=svdAlgo.predict(user,item,r_ui=None,clip=True,verbose=False)\n",
        "        ratingOutput = ratingOutput.append({'item_id': item, 'rating': output.est}, ignore_index=True)\n",
        "        \n",
        "    ratingOutput=ratingOutput.sort_values('rating',ascending=False)\n",
        "    outputdf=ratingOutput.head(10).copy()\n",
        "    #print(\"Top 10 recommended items with their predicted ratings:\")\n",
        "    #outputdf.head()\n",
        "    rawdf = pd.read_excel(\"dataset_cloth_recom.xlsx\")\n",
        "    itemID=outputdf['item_id'].iloc[0]#.astype('int64')\n",
        "    print(\"Recommended itemID:\",itemID)\n",
        "    finaldf = (rawdf[rawdf['item_id']==itemID].iloc[0])\n",
        "    print(\"Recommended category:\",finaldf['category'])\n",
        "    finalpro = (rawdf[rawdf['item_id']==itemID].iloc[0])\n",
        "    print(\"Recommended product:\",finaldf['product'])\n",
        "    print(\"Occasion:\",finaldf['rented for'])\n",
        "    plt.imshow(mpimg.imread(finaldf['product']))\n",
        "    \n"
      ],
      "metadata": {
        "colab": {
          "base_uri": "https://localhost:8080/",
          "height": 411
        },
        "id": "cBPrzPB07ZXZ",
        "outputId": "3479f77d-fb09-435b-a77d-cd17aaa36482"
      },
      "execution_count": 27,
      "outputs": [
        {
          "output_type": "stream",
          "name": "stderr",
          "text": [
            "/usr/local/lib/python3.7/dist-packages/sklearn/base.py:451: UserWarning: X does not have valid feature names, but RandomForestClassifier was fitted with feature names\n",
            "  \"X does not have valid feature names, but\"\n"
          ]
        },
        {
          "output_type": "stream",
          "name": "stdout",
          "text": [
            "Predicted body type: ['athletic']\n",
            "Recommended itemID: 131533.0\n",
            "Recommended category: gown\n",
            "Recommended product: 152.jpg\n",
            "Occasion: wedding\n"
          ]
        },
        {
          "output_type": "display_data",
          "data": {
            "image/png": "[encoded data removed]",
            "text/plain": [
              "<Figure size 432x288 with 1 Axes>"
            ]
          },
          "metadata": {
            "needs_background": "light"
          }
        }
      ]
    },
    {
      "cell_type": "code",
      "source": [
        "import pickle\n",
        "with open('model.pkl','wb') as file:\n",
        "  pickle.dump(model,file)\n"
      ],
      "metadata": {
        "id": "m3GMjFa7hQB1"
      },
      "execution_count": 31,
      "outputs": []
    },
    {
      "cell_type": "code",
      "source": [
        "import pickle\n",
        "with open('svd.pkl','wb') as file:\n",
        "  pickle.dump(svdAlgo,file)"
      ],
      "metadata": {
        "id": "1d8HYYCxhQXF"
      },
      "execution_count": 33,
      "outputs": []
    },
    {
      "cell_type": "code",
      "source": [
        "#from zipfile import ZipFile\n",
        "#file_name = \"/content/dresszip\"\n",
        "\n",
        "#with ZipFile(file_name, 'r') as zip:\n",
        " # zip.extractall()\n",
        "  #print('Done')"
      ],
      "metadata": {
        "id": "Tv2ckr4fFA1c"
      },
      "execution_count": null,
      "outputs": []
    }
  ]
}