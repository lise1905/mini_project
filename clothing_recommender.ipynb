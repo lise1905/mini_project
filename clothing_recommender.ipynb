{
  "nbformat": 4,
  "nbformat_minor": 0,
  "metadata": {
    "colab": {
      "name": "clothing_recommender.ipynb",
      "provenance": [],
      "authorship_tag": "ABX9TyM4HM/MgoJ/7zPWEACn2iDq",
      "include_colab_link": true
    },
    "kernelspec": {
      "name": "python3",
      "display_name": "Python 3"
    },
    "language_info": {
      "name": "python"
    }
  },
  "cells": [
    {
      "cell_type": "markdown",
      "metadata": {
        "id": "view-in-github",
        "colab_type": "text"
      },
      "source": [
        "<a href=\"https://colab.research.google.com/github/lise1905/mini_project/blob/main/clothing_recommender.ipynb\" target=\"_parent\"><img src=\"https://colab.research.google.com/assets/colab-badge.svg\" alt=\"Open In Colab\"/></a>"
      ]
    },
    {
      "cell_type": "code",
      "execution_count": 1,
      "metadata": {
        "colab": {
          "base_uri": "https://localhost:8080/"
        },
        "id": "odDIWveyKiiY",
        "outputId": "96dcfdee-4b0e-4d8c-eb49-926282cb36a0"
      },
      "outputs": [
        {
          "output_type": "stream",
          "name": "stdout",
          "text": [
            "Collecting surprise\n",
            "  Downloading surprise-0.1-py2.py3-none-any.whl (1.8 kB)\n",
            "Collecting scikit-surprise\n",
            "  Downloading scikit-surprise-1.1.1.tar.gz (11.8 MB)\n",
            "\u001b[K     |████████████████████████████████| 11.8 MB 5.0 MB/s \n",
            "\u001b[?25hRequirement already satisfied: joblib>=0.11 in /usr/local/lib/python3.7/dist-packages (from scikit-surprise->surprise) (1.1.0)\n",
            "Requirement already satisfied: numpy>=1.11.2 in /usr/local/lib/python3.7/dist-packages (from scikit-surprise->surprise) (1.19.5)\n",
            "Requirement already satisfied: scipy>=1.0.0 in /usr/local/lib/python3.7/dist-packages (from scikit-surprise->surprise) (1.4.1)\n",
            "Requirement already satisfied: six>=1.10.0 in /usr/local/lib/python3.7/dist-packages (from scikit-surprise->surprise) (1.15.0)\n",
            "Building wheels for collected packages: scikit-surprise\n",
            "  Building wheel for scikit-surprise (setup.py) ... \u001b[?25l\u001b[?25hdone\n",
            "  Created wheel for scikit-surprise: filename=scikit_surprise-1.1.1-cp37-cp37m-linux_x86_64.whl size=1623246 sha256=5d4480948b0f7306f62802ed17967d98457757f5329b35a5056b21f6ba51a940\n",
            "  Stored in directory: /root/.cache/pip/wheels/76/44/74/b498c42be47b2406bd27994e16c5188e337c657025ab400c1c\n",
            "Successfully built scikit-surprise\n",
            "Installing collected packages: scikit-surprise, surprise\n",
            "Successfully installed scikit-surprise-1.1.1 surprise-0.1\n"
          ]
        }
      ],
      "source": [
        "pip install surprise"
      ]
    },
    {
      "cell_type": "code",
      "source": [
        "from surprise import Dataset\n",
        "from surprise import Reader\n",
        "import pandas as pd\n",
        "import numpy as np\n",
        "import os, io\n",
        "from surprise import SVD\n",
        "from surprise import accuracy\n",
        "import csv"
      ],
      "metadata": {
        "id": "dDvle8JAKmaG"
      },
      "execution_count": 2,
      "outputs": []
    },
    {
      "cell_type": "code",
      "source": [
        "import pandas as pd\n",
        "import numpy as np\n",
        "from sklearn.model_selection import train_test_split\n",
        "data = pd.read_json('renttherunway_final_data.json', lines=True)\n",
        "train, test = train_test_split(data, test_size=0.2)"
      ],
      "metadata": {
        "id": "K8BuEBIAKmfs"
      },
      "execution_count": 3,
      "outputs": []
    },
    {
      "cell_type": "code",
      "source": [
        "print(train.head(10))"
      ],
      "metadata": {
        "colab": {
          "base_uri": "https://localhost:8080/"
        },
        "id": "KfppVdrjPXYF",
        "outputId": "6e1dab8b-9af3-4034-c15d-e1c80d135e6d"
      },
      "execution_count": 10,
      "outputs": [
        {
          "output_type": "stream",
          "name": "stdout",
          "text": [
            "          fit  user_id bust size  item_id  ... height  size   age        review_date\n",
            "62628     fit   148775       34b   727157  ...  6' 0\"     8  33.0   January 19, 2017\n",
            "130456    fit   670592       34b  2318793  ...  5' 3\"     8  31.0    October 3, 2017\n",
            "161758  small   451231       34c  1973331  ...  5' 6\"    14  31.0    August 21, 2016\n",
            "63399   large   483792       36a   174086  ...  5' 5\"    16  37.0      July 14, 2015\n",
            "42028     fit   891326       32d   188485  ...  5' 2\"     8  33.0   January 21, 2016\n",
            "101596  large   362951   34ddd/e  2282065  ...  5' 5\"    20  23.0      July 19, 2017\n",
            "177366  small   306184       34b  1158451  ...  5' 4\"     8  34.0       May 18, 2016\n",
            "8589    large   178484       36b   710897  ...  5' 7\"    24  31.0    August 18, 2017\n",
            "140168    fit   417878       34c  1333316  ...  5' 6\"    14  31.0   October 19, 2016\n",
            "11992     fit   500780       36d   427952  ...  5' 7\"    28  39.0  September 6, 2017\n",
            "\n",
            "[10 rows x 15 columns]\n"
          ]
        }
      ]
    },
    {
      "cell_type": "code",
      "source": [
        "print(test.head(10))"
      ],
      "metadata": {
        "colab": {
          "base_uri": "https://localhost:8080/"
        },
        "id": "kCoWAYOOPfrW",
        "outputId": "76b1c3dd-bb87-4c63-ae02-81e817884825"
      },
      "execution_count": 11,
      "outputs": [
        {
          "output_type": "stream",
          "name": "stdout",
          "text": [
            "          fit  user_id bust size  ...  size   age         review_date\n",
            "33477     fit   783293       32d  ...     4  32.0       June 25, 2015\n",
            "106975    fit   852706       32d  ...     5  34.0     January 9, 2017\n",
            "7036      fit   285836       32a  ...     1  24.0    January 10, 2017\n",
            "27334     fit   448198       32c  ...     8  50.0       March 7, 2017\n",
            "125994    fit   267250       34b  ...     8  25.0      April 17, 2017\n",
            "122422    fit   111436       32a  ...     1  32.0     August 31, 2016\n",
            "67666   large   275028      36d+  ...    24  32.0  September 21, 2014\n",
            "138876    fit   431770       34b  ...     1  42.0     October 5, 2014\n",
            "83467     fit   958548       36a  ...    14  35.0       June 13, 2017\n",
            "123337    fit   359031       34b  ...    12  26.0         May 1, 2015\n",
            "\n",
            "[10 rows x 15 columns]\n"
          ]
        }
      ]
    },
    {
      "cell_type": "code",
      "source": [
        "# Exception Handeling for Data Sorting in pandas\n",
        "pd.options.mode.chained_assignment = None"
      ],
      "metadata": {
        "id": "_0nccMiQKmil"
      },
      "execution_count": 4,
      "outputs": []
    },
    {
      "cell_type": "code",
      "source": [
        "def preprocessAge(data):\n",
        "  bins = pd.IntervalIndex.from_tuples([(5, 15), (15, 30), (30, 50),(50,65),(65,100)])\n",
        "  x = pd.cut(data['age'].to_list(), bins)\n",
        "  x.categories = ['1','2','3','4','5']\n",
        "  data['age_bins']  = x\n",
        "  age_Preprocessed_data = data[~data['age_bins'].isnull()]\n",
        "  # print ('{0} rows got dropped after age preprocessing'.format(str(data.shape[0] - age_Preprocessed_data.shape[0])))\n",
        "  return age_Preprocessed_data"
      ],
      "metadata": {
        "id": "PbeuZu0xKmlA"
      },
      "execution_count": 5,
      "outputs": []
    },
    {
      "cell_type": "code",
      "source": [
        "def preprocessBustsize(age_Preprocessed_data):\n",
        "  data_bust_size_not_null = age_Preprocessed_data[~age_Preprocessed_data['bust size'].isnull()]\n",
        "  data_bust_size_not_null['bust size'] = data_bust_size_not_null['bust size'].apply(lambda x : (int(x[:2]), x[2:]))\n",
        "  data_bust_size_not_null.shape\n",
        "  data_bust_size_not_null[['bust Size1', 'bust']] = pd.DataFrame(data_bust_size_not_null['bust size'].tolist(), index=data_bust_size_not_null.index)\n",
        "  bustDict = {'a': 1, 'aa': 1, 'b': 2, 'c': 3, 'd': 4, \n",
        "            'd+': 5, 'dd': 5, 'ddd/e': 6,\n",
        "           'f':7 , 'g': 8, 'h': 9, 'i': 10, 'j': 11}\n",
        "  data_bust_size_not_null['bust1'] = data_bust_size_not_null['bust'].map(bustDict)\n",
        "  # Calculating model of bust size based on age grp.\n",
        "  def funct(df):\n",
        "    return df.mode()\n",
        "  x = data_bust_size_not_null[['age_bins','bust Size1','bust1']].groupby('age_bins').apply(funct)\n",
        "  x.reset_index(inplace= True, drop = True)\n",
        "  data_bust_size_null = age_Preprocessed_data[age_Preprocessed_data['bust size'].isnull()]\n",
        "  data_bust_size_null = pd.merge(data_bust_size_null, x, how ='left', left_on = 'age_bins', right_on = 'age_bins')\n",
        "  data_bust_size_cleansed = data_bust_size_not_null.append(data_bust_size_null)\n",
        "  return data_bust_size_cleansed"
      ],
      "metadata": {
        "id": "N54Ql4QhKmnU"
      },
      "execution_count": 6,
      "outputs": []
    },
    {
      "cell_type": "code",
      "source": [
        "def preprocessHeight(data_bust_size_cleansed):\n",
        "  data_bust_size_cleansed['heightCM'] = data_bust_size_cleansed['height'].apply(lambda x : (int(x.split(\"\\'\")[0]) * 30.48) + (int(x.split(\"\\'\")[1][:-1]) * 2.54) \n",
        "                                                        if type(x) == str else x)\n",
        "  data_bust_size_cleansed['heightCM'].fillna((data_bust_size_cleansed['heightCM'].mean()), inplace=True)\n",
        "  return data_bust_size_cleansed"
      ],
      "metadata": {
        "id": "8kaXrpj9Kmp7"
      },
      "execution_count": 7,
      "outputs": []
    },
    {
      "cell_type": "code",
      "source": [
        "def preprocessWeight(data_bust_size_cleansed):\n",
        "  data_bust_size_cleansed['weightLbs'] = data_bust_size_cleansed['weight'].apply(lambda x : int(x[:-3])                                                        if type(x) == str else x)\n",
        "  data_bust_size_cleansed['weightLbs'].fillna((data_bust_size_cleansed['weightLbs'].mean()), inplace=True)\n",
        "  return data_bust_size_cleansed"
      ],
      "metadata": {
        "id": "gv2G2-IlKmsO"
      },
      "execution_count": 8,
      "outputs": []
    },
    {
      "cell_type": "code",
      "source": [
        ""
      ],
      "metadata": {
        "id": "gpantcjXKmup"
      },
      "execution_count": null,
      "outputs": []
    },
    {
      "cell_type": "code",
      "source": [
        ""
      ],
      "metadata": {
        "id": "DzNMZb07KmxC"
      },
      "execution_count": null,
      "outputs": []
    },
    {
      "cell_type": "code",
      "source": [
        ""
      ],
      "metadata": {
        "id": "7jWLukgIKmzM"
      },
      "execution_count": null,
      "outputs": []
    },
    {
      "cell_type": "code",
      "source": [
        ""
      ],
      "metadata": {
        "id": "9zIVdNQrKm1Q"
      },
      "execution_count": null,
      "outputs": []
    }
  ]
}