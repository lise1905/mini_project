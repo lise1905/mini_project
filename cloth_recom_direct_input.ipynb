{
  "nbformat": 4,
  "nbformat_minor": 0,
  "metadata": {
    "colab": {
      "name": "cloth_recom_direct_input.ipynb",
      "provenance": [],
      "include_colab_link": true
    },
    "kernelspec": {
      "name": "python3",
      "display_name": "Python 3"
    },
    "language_info": {
      "name": "python"
    }
  },
  "cells": [
    {
      "cell_type": "markdown",
      "metadata": {
        "id": "view-in-github",
        "colab_type": "text"
      },
      "source": [
        "<a href=\"https://colab.research.google.com/github/lise1905/mini_project/blob/main/cloth_recom_direct_input.ipynb\" target=\"_parent\"><img src=\"https://colab.research.google.com/assets/colab-badge.svg\" alt=\"Open In Colab\"/></a>"
      ]
    },
    {
      "cell_type": "code",
      "execution_count": 2,
      "metadata": {
        "id": "f-6Fo4WLE2Wn"
      },
      "outputs": [],
      "source": [
        "import pandas as pd\n",
        "from pandas import ExcelWriter\n",
        "from pandas import ExcelFile\n",
        "from sklearn.model_selection import train_test_split\n",
        "import numpy as np\n",
        "from sklearn.metrics import classification_report, confusion_matrix\n"
      ]
    },
    {
      "cell_type": "code",
      "source": [
        "#pip install flask-ngrok"
      ],
      "metadata": {
        "colab": {
          "base_uri": "https://localhost:8080/"
        },
        "id": "X9vdtw8afMmh",
        "outputId": "dab5713d-476c-4270-df7b-9492f194e736"
      },
      "execution_count": null,
      "outputs": [
        {
          "output_type": "stream",
          "name": "stdout",
          "text": [
            "Collecting flask-ngrok\n",
            "  Downloading flask_ngrok-0.0.25-py3-none-any.whl (3.1 kB)\n",
            "Requirement already satisfied: requests in /usr/local/lib/python3.7/dist-packages (from flask-ngrok) (2.23.0)\n",
            "Requirement already satisfied: Flask>=0.8 in /usr/local/lib/python3.7/dist-packages (from flask-ngrok) (1.1.4)\n",
            "Requirement already satisfied: click<8.0,>=5.1 in /usr/local/lib/python3.7/dist-packages (from Flask>=0.8->flask-ngrok) (7.1.2)\n",
            "Requirement already satisfied: itsdangerous<2.0,>=0.24 in /usr/local/lib/python3.7/dist-packages (from Flask>=0.8->flask-ngrok) (1.1.0)\n",
            "Requirement already satisfied: Jinja2<3.0,>=2.10.1 in /usr/local/lib/python3.7/dist-packages (from Flask>=0.8->flask-ngrok) (2.11.3)\n",
            "Requirement already satisfied: Werkzeug<2.0,>=0.15 in /usr/local/lib/python3.7/dist-packages (from Flask>=0.8->flask-ngrok) (1.0.1)\n",
            "Requirement already satisfied: MarkupSafe>=0.23 in /usr/local/lib/python3.7/dist-packages (from Jinja2<3.0,>=2.10.1->Flask>=0.8->flask-ngrok) (2.0.1)\n",
            "Requirement already satisfied: chardet<4,>=3.0.2 in /usr/local/lib/python3.7/dist-packages (from requests->flask-ngrok) (3.0.4)\n",
            "Requirement already satisfied: idna<3,>=2.5 in /usr/local/lib/python3.7/dist-packages (from requests->flask-ngrok) (2.10)\n",
            "Requirement already satisfied: certifi>=2017.4.17 in /usr/local/lib/python3.7/dist-packages (from requests->flask-ngrok) (2021.10.8)\n",
            "Requirement already satisfied: urllib3!=1.25.0,!=1.25.1,<1.26,>=1.21.1 in /usr/local/lib/python3.7/dist-packages (from requests->flask-ngrok) (1.24.3)\n",
            "Installing collected packages: flask-ngrok\n",
            "Successfully installed flask-ngrok-0.0.25\n"
          ]
        }
      ]
    },
    {
      "cell_type": "code",
      "source": [
        "from google.colab import drive\n",
        "drive.mount('/content/drive')"
      ],
      "metadata": {
        "colab": {
          "base_uri": "https://localhost:8080/"
        },
        "id": "-4YCzwLoyODc",
        "outputId": "7d1578ad-5551-4c3b-806e-2f08862b99d4"
      },
      "execution_count": 1,
      "outputs": [
        {
          "output_type": "stream",
          "name": "stdout",
          "text": [
            "Mounted at /content/drive\n"
          ]
        }
      ]
    },
    {
      "cell_type": "code",
      "source": [
        "%cd /content/drive/MyDrive/Colab Notebooks/mini_project"
      ],
      "metadata": {
        "colab": {
          "base_uri": "https://localhost:8080/"
        },
        "id": "Am5xW6v8WNJ4",
        "outputId": "2721fd14-1428-4850-b797-6a983eda3125"
      },
      "execution_count": 3,
      "outputs": [
        {
          "output_type": "stream",
          "name": "stdout",
          "text": [
            "/content/drive/MyDrive/Colab Notebooks/mini_project\n"
          ]
        }
      ]
    },
    {
      "cell_type": "code",
      "source": [
        "df = pd.read_excel('dataset_cloth_recom.xlsx')"
      ],
      "metadata": {
        "id": "eOHPIRXlE-Xf"
      },
      "execution_count": 4,
      "outputs": []
    },
    {
      "cell_type": "code",
      "source": [
        "print(df.head(10))"
      ],
      "metadata": {
        "colab": {
          "base_uri": "https://localhost:8080/"
        },
        "id": "bDut4A0fE-aG",
        "outputId": "b77c6e6b-115e-4f76-8b3d-69fa1beacba5"
      },
      "execution_count": 5,
      "outputs": [
        {
          "output_type": "stream",
          "name": "stdout",
          "text": [
            "   fit  user_id bust size  item_id  weight  ...  category height  size    age product\n",
            "0  fit   420272       34d  2260466  137lbs  ...    romper  5' 8\"  14.0   28.0   1.jpg\n",
            "1  fit   273551       34b   153475  132lbs  ...      gown  5' 6\"  12.0   36.0   2.jpg\n",
            "2  fit   360448       NaN  1063761     NaN  ...    sheath  5' 4\"   4.0  116.0  15.jpg\n",
            "3  fit   909926       34c   126335  135lbs  ...     dress  5' 5\"   8.0   34.0   4.jpg\n",
            "4  fit   151944       34b   616682  145lbs  ...      gown  5' 9\"  12.0   27.0   5.jpg\n",
            "5  fit   734848       32b   364092  138lbs  ...     dress  5' 8\"   8.0   45.0   6.jpg\n",
            "6  fit   336066       34c   568429  112lbs  ...     dress  5' 3\"   4.0   27.0   7.jpg\n",
            "7  fit    86661      34d+   130259  118lbs  ...     dress  5' 3\"   8.0   65.0   8.jpg\n",
            "8  fit   166228       36d  1729232     NaN  ...      gown  5' 6\"  21.0   27.0   9.jpg\n",
            "9  fit   126461       36c   132135  129lbs  ...      gown  5' 6\"   7.0   20.0  10.jpg\n",
            "\n",
            "[10 rows x 15 columns]\n"
          ]
        }
      ]
    },
    {
      "cell_type": "code",
      "source": [
        "data=df.drop(['review_text','review_summary'],axis = 1)"
      ],
      "metadata": {
        "id": "0iDkEwHLiLwz"
      },
      "execution_count": 7,
      "outputs": []
    },
    {
      "cell_type": "code",
      "source": [
        "data.dtypes"
      ],
      "metadata": {
        "id": "YXtBe2AnF6oj",
        "colab": {
          "base_uri": "https://localhost:8080/"
        },
        "outputId": "b018b6a3-d1d6-404d-d121-95ac786f5456"
      },
      "execution_count": 8,
      "outputs": [
        {
          "output_type": "execute_result",
          "data": {
            "text/plain": [
              "fit            object\n",
              "user_id         int64\n",
              "bust size      object\n",
              "item_id         int64\n",
              "weight         object\n",
              "rating          int64\n",
              "rented for     object\n",
              "body type      object\n",
              "category       object\n",
              "height         object\n",
              "size          float64\n",
              "age           float64\n",
              "product        object\n",
              "dtype: object"
            ]
          },
          "metadata": {},
          "execution_count": 8
        }
      ]
    },
    {
      "cell_type": "code",
      "source": [
        "print(data.head(10))"
      ],
      "metadata": {
        "colab": {
          "base_uri": "https://localhost:8080/"
        },
        "id": "ypPC0MNok9Xx",
        "outputId": "daa79c86-0b52-4b9d-f64d-e0cb5d2ed032"
      },
      "execution_count": 9,
      "outputs": [
        {
          "output_type": "stream",
          "name": "stdout",
          "text": [
            "   fit  user_id bust size  item_id  weight  ...  category height  size    age product\n",
            "0  fit   420272       34d  2260466  137lbs  ...    romper  5' 8\"  14.0   28.0   1.jpg\n",
            "1  fit   273551       34b   153475  132lbs  ...      gown  5' 6\"  12.0   36.0   2.jpg\n",
            "2  fit   360448       NaN  1063761     NaN  ...    sheath  5' 4\"   4.0  116.0  15.jpg\n",
            "3  fit   909926       34c   126335  135lbs  ...     dress  5' 5\"   8.0   34.0   4.jpg\n",
            "4  fit   151944       34b   616682  145lbs  ...      gown  5' 9\"  12.0   27.0   5.jpg\n",
            "5  fit   734848       32b   364092  138lbs  ...     dress  5' 8\"   8.0   45.0   6.jpg\n",
            "6  fit   336066       34c   568429  112lbs  ...     dress  5' 3\"   4.0   27.0   7.jpg\n",
            "7  fit    86661      34d+   130259  118lbs  ...     dress  5' 3\"   8.0   65.0   8.jpg\n",
            "8  fit   166228       36d  1729232     NaN  ...      gown  5' 6\"  21.0   27.0   9.jpg\n",
            "9  fit   126461       36c   132135  129lbs  ...      gown  5' 6\"   7.0   20.0  10.jpg\n",
            "\n",
            "[10 rows x 13 columns]\n"
          ]
        }
      ]
    },
    {
      "cell_type": "code",
      "source": [
        "pip install surprise"
      ],
      "metadata": {
        "id": "0MfKK8nrIxJ4",
        "colab": {
          "base_uri": "https://localhost:8080/"
        },
        "outputId": "bd9bfac8-bf05-4f1a-dfe3-242f02d33a4e"
      },
      "execution_count": 10,
      "outputs": [
        {
          "output_type": "stream",
          "name": "stdout",
          "text": [
            "Collecting surprise\n",
            "  Downloading surprise-0.1-py2.py3-none-any.whl (1.8 kB)\n",
            "Collecting scikit-surprise\n",
            "  Downloading scikit-surprise-1.1.1.tar.gz (11.8 MB)\n",
            "\u001b[K     |████████████████████████████████| 11.8 MB 5.6 MB/s \n",
            "\u001b[?25hRequirement already satisfied: joblib>=0.11 in /usr/local/lib/python3.7/dist-packages (from scikit-surprise->surprise) (1.1.0)\n",
            "Requirement already satisfied: numpy>=1.11.2 in /usr/local/lib/python3.7/dist-packages (from scikit-surprise->surprise) (1.21.5)\n",
            "Requirement already satisfied: scipy>=1.0.0 in /usr/local/lib/python3.7/dist-packages (from scikit-surprise->surprise) (1.4.1)\n",
            "Requirement already satisfied: six>=1.10.0 in /usr/local/lib/python3.7/dist-packages (from scikit-surprise->surprise) (1.15.0)\n",
            "Building wheels for collected packages: scikit-surprise\n",
            "  Building wheel for scikit-surprise (setup.py) ... \u001b[?25l\u001b[?25hdone\n",
            "  Created wheel for scikit-surprise: filename=scikit_surprise-1.1.1-cp37-cp37m-linux_x86_64.whl size=1630182 sha256=b86b7cd19fc39dd22ffa6683de9808361007e4a84e402e2b92e0f0e4e168a338\n",
            "  Stored in directory: /root/.cache/pip/wheels/76/44/74/b498c42be47b2406bd27994e16c5188e337c657025ab400c1c\n",
            "Successfully built scikit-surprise\n",
            "Installing collected packages: scikit-surprise, surprise\n",
            "Successfully installed scikit-surprise-1.1.1 surprise-0.1\n"
          ]
        }
      ]
    },
    {
      "cell_type": "code",
      "source": [
        "from surprise import Dataset\n",
        "from surprise import Reader\n",
        "import os, io\n",
        "from surprise import SVD\n",
        "from surprise import accuracy"
      ],
      "metadata": {
        "id": "OsHKCpLvE-c1"
      },
      "execution_count": 11,
      "outputs": []
    },
    {
      "cell_type": "code",
      "source": [
        "train, test = train_test_split(data, test_size=0.2)"
      ],
      "metadata": {
        "id": "hvj8r8dS32oK"
      },
      "execution_count": 12,
      "outputs": []
    },
    {
      "cell_type": "code",
      "source": [
        "def preprocessAge(data):\n",
        "  bins = pd.IntervalIndex.from_tuples([(5, 15), (15, 30), (30, 50),(50,65),(65,100)])\n",
        "  x = pd.cut(data['age'].to_list(), bins)\n",
        "  x.categories = ['1','2','3','4','5']\n",
        "  data['age_bins']  = x\n",
        "  age_Preprocessed_data = data[~data['age_bins'].isnull()]\n",
        "  # print ('{0} rows got dropped after age preprocessing'.format(str(data.shape[0] - age_Preprocessed_data.shape[0])))\n",
        "  return age_Preprocessed_data"
      ],
      "metadata": {
        "id": "ZA6UT5IpKDJ4"
      },
      "execution_count": 13,
      "outputs": []
    },
    {
      "cell_type": "code",
      "source": [
        "def preprocessBustsize(age_Preprocessed_data):\n",
        "  data_bust_size_not_null = age_Preprocessed_data[~age_Preprocessed_data['bust size'].isnull()]\n",
        "  data_bust_size_not_null['bust size'] = data_bust_size_not_null['bust size'].apply(lambda x : (int(x[:2]), x[2:]))\n",
        "  data_bust_size_not_null.shape\n",
        "  data_bust_size_not_null[['bust Size1', 'bust']] = pd.DataFrame(data_bust_size_not_null['bust size'].tolist(), index=data_bust_size_not_null.index)\n",
        "  bustDict = {'a': 1, 'aa': 1, 'b': 2, 'c': 3, 'd': 4, \n",
        "            'd+': 5, 'dd': 5, 'ddd/e': 6,\n",
        "           'f':7 , 'g': 8, 'h': 9, 'i': 10, 'j': 11}\n",
        "  data_bust_size_not_null['bust1'] = data_bust_size_not_null['bust'].map(bustDict)\n",
        "  # Calculating model of bust size based on age grp.\n",
        "  def funct(df):\n",
        "    return df.mode()\n",
        "  x = data_bust_size_not_null[['age_bins','bust Size1','bust1']].groupby('age_bins').apply(funct)\n",
        "  x.reset_index(inplace= True, drop = True)\n",
        "  data_bust_size_null = age_Preprocessed_data[age_Preprocessed_data['bust size'].isnull()]\n",
        "  data_bust_size_null = pd.merge(data_bust_size_null, x, how ='left', left_on = 'age_bins', right_on = 'age_bins')\n",
        "  data_bust_size_cleansed = data_bust_size_not_null.append(data_bust_size_null)\n",
        "  return data_bust_size_cleansed"
      ],
      "metadata": {
        "id": "dUSyjDXIF3Fh"
      },
      "execution_count": 14,
      "outputs": []
    },
    {
      "cell_type": "code",
      "source": [
        "def preprocessHeight(data_bust_size_cleansed):\n",
        "  data_bust_size_cleansed['heightCM'] = data_bust_size_cleansed['height'].apply(lambda x : (int(x.split(\"\\'\")[0]) * 30.48) + (int(x.split(\"\\'\")[1][:-1]) * 2.54) \n",
        "                                                        if type(x) == str else x)\n",
        "  data_bust_size_cleansed['heightCM'].fillna((data_bust_size_cleansed['heightCM'].mean()), inplace=True)\n",
        "  return data_bust_size_cleansed"
      ],
      "metadata": {
        "id": "WT66KENaE-fH"
      },
      "execution_count": 15,
      "outputs": []
    },
    {
      "cell_type": "code",
      "source": [
        "def preprocessWeight(data_bust_size_cleansed):\n",
        "  data_bust_size_cleansed['weightLbs'] = data_bust_size_cleansed['weight'].apply(lambda x : int(x[:-3])                                                        if type(x) == str else x)\n",
        "  data_bust_size_cleansed['weightLbs'].fillna((data_bust_size_cleansed['weightLbs'].mean()), inplace=True)\n",
        "  return data_bust_size_cleansed"
      ],
      "metadata": {
        "id": "fAKmBRmX76fG"
      },
      "execution_count": 16,
      "outputs": []
    },
    {
      "cell_type": "code",
      "source": [
        "def preprocessRentedFor(data_bust_size_cleansed):\n",
        "  data_bust_size_cleansed['rented for'].fillna('other', inplace=True)\n",
        "  return data_bust_size_cleansed"
      ],
      "metadata": {
        "id": "3KWxMDir8d4S"
      },
      "execution_count": 17,
      "outputs": []
    },
    {
      "cell_type": "code",
      "source": [
        "def preprocessBodytype(data_bust_size_cleansed):\n",
        "  # Calculating model of body type based on Bust Size.\n",
        "  data_body_type_not_null = data_bust_size_cleansed[~data_bust_size_cleansed['body type'].isnull()]\n",
        "  def func(df):\n",
        "    return df.mode()\n",
        "  x = data_body_type_not_null[['bust Size1','body type']].groupby('bust Size1').apply(func)\n",
        "  x.reset_index(inplace= True, drop = True)\n",
        "  # print(x)\n",
        "  data_body_type_null = data_bust_size_cleansed[data_bust_size_cleansed['body type'].isnull()]\n",
        "  data_body_type_null = pd.merge(data_body_type_null, x, how ='left', left_on = 'bust Size1', right_on = 'bust Size1')\n",
        "  # print(data_body_type_null)\n",
        "  data_body_type_cleansed = data_body_type_not_null.append(data_body_type_null,sort=True)\n",
        "  # print(data_body_type_cleansed)\n",
        "  data_body_type_cleansed['body type'].fillna(data_body_type_cleansed['body type_y'], inplace=True)\n",
        "  del data_body_type_cleansed['body type_x']\n",
        "  del data_body_type_cleansed['body type_y']\n",
        "  return data_body_type_cleansed"
      ],
      "metadata": {
        "id": "xwQZQA068d7u"
      },
      "execution_count": 18,
      "outputs": []
    },
    {
      "cell_type": "code",
      "source": [
        "def createFinalDataframe(cleansedData):\n",
        "  final_df=cleansedData.copy()\n",
        "  final_df=final_df.drop(['rented for','rating','category','age_bins','bust','bust size','fit','height','item_id','user_id','weight'],axis=1)\n",
        "  cleanup_nums = {\"body type\":     {\"hourglass\": 1, \"straight & narrow\": 2, \"pear\": 3,\"athletic\": 4, \"full bust\": 5,\"petite\": 6, \"apple\": 7}}\n",
        "  final_df.replace(cleanup_nums, inplace=True)\n",
        "  return final_df"
      ],
      "metadata": {
        "id": "zdlQoz4z3ptC"
      },
      "execution_count": 19,
      "outputs": []
    },
    {
      "cell_type": "code",
      "source": [
        "def createFinalTestDataframe(cleansedData):\n",
        "  final_df=cleansedData.copy()\n",
        "  final_df=final_df.drop(['rating','category','age_bins','bust','bust size','fit','height','item_id','weight'],axis=1)\n",
        "  cleanup_nums = {\"body type\":     {\"hourglass\": 1, \"straight & narrow\": 2, \"pear\": 3,\"athletic\": 4, \"full bust\": 5,\"petite\": 6, \"apple\": 7}}\n",
        "  final_df.replace(cleanup_nums, inplace=True)\n",
        "  return final_df"
      ],
      "metadata": {
        "id": "93PJLcFF3pwY"
      },
      "execution_count": 20,
      "outputs": []
    },
    {
      "cell_type": "code",
      "source": [
        "age_Preprocessed_data=preprocessAge(train)\n",
        "data_bust_size_cleansed=preprocessBustsize(age_Preprocessed_data)\n",
        "data_bust_size_cleansed=preprocessHeight(data_bust_size_cleansed)\n",
        "data_bust_size_cleansed=preprocessWeight(data_bust_size_cleansed)\n",
        "data_bust_size_cleansed=preprocessRentedFor(data_bust_size_cleansed)\n",
        "cleansedData=preprocessBodytype(data_bust_size_cleansed)\n",
        "final_df=createFinalDataframe(cleansedData)"
      ],
      "metadata": {
        "colab": {
          "base_uri": "https://localhost:8080/"
        },
        "id": "mscmjP673yDD",
        "outputId": "e481be71-d16e-4fe2-ec55-311496231d01"
      },
      "execution_count": 21,
      "outputs": [
        {
          "output_type": "stream",
          "name": "stderr",
          "text": [
            "/usr/local/lib/python3.7/dist-packages/ipykernel_launcher.py:3: SettingWithCopyWarning: \n",
            "A value is trying to be set on a copy of a slice from a DataFrame.\n",
            "Try using .loc[row_indexer,col_indexer] = value instead\n",
            "\n",
            "See the caveats in the documentation: https://pandas.pydata.org/pandas-docs/stable/user_guide/indexing.html#returning-a-view-versus-a-copy\n",
            "  This is separate from the ipykernel package so we can avoid doing imports until\n",
            "/usr/local/lib/python3.7/dist-packages/pandas/core/frame.py:3641: SettingWithCopyWarning: \n",
            "A value is trying to be set on a copy of a slice from a DataFrame.\n",
            "Try using .loc[row_indexer,col_indexer] = value instead\n",
            "\n",
            "See the caveats in the documentation: https://pandas.pydata.org/pandas-docs/stable/user_guide/indexing.html#returning-a-view-versus-a-copy\n",
            "  self[k1] = value[k2]\n",
            "/usr/local/lib/python3.7/dist-packages/ipykernel_launcher.py:9: SettingWithCopyWarning: \n",
            "A value is trying to be set on a copy of a slice from a DataFrame.\n",
            "Try using .loc[row_indexer,col_indexer] = value instead\n",
            "\n",
            "See the caveats in the documentation: https://pandas.pydata.org/pandas-docs/stable/user_guide/indexing.html#returning-a-view-versus-a-copy\n",
            "  if __name__ == '__main__':\n"
          ]
        }
      ]
    },
    {
      "cell_type": "code",
      "source": [
        "feature_names = ['age', 'bust Size1','bust1','size','heightCM','weightLbs']\n",
        "X = final_df[feature_names]\n",
        "y = final_df['body type']\n",
        "from sklearn.model_selection import train_test_split\n",
        "X_train, X_test, y_train, y_test = train_test_split(X, y, random_state=0)"
      ],
      "metadata": {
        "id": "xG94SlQj24i4"
      },
      "execution_count": 22,
      "outputs": []
    },
    {
      "cell_type": "code",
      "source": [
        "print(X)"
      ],
      "metadata": {
        "colab": {
          "base_uri": "https://localhost:8080/"
        },
        "id": "S6hzozi824lo",
        "outputId": "ebe4ecbb-0e1f-417f-9b48-faf1f1966645"
      },
      "execution_count": 23,
      "outputs": [
        {
          "output_type": "stream",
          "name": "stdout",
          "text": [
            "     age  bust Size1  bust1  size  heightCM   weightLbs\n",
            "86  31.0        34.0      2  17.0    167.64  130.000000\n",
            "39  37.0        34.0      3  16.0    175.26  160.000000\n",
            "23  36.0        36.0      3  17.0    170.18  155.000000\n",
            "75  44.0        34.0      2  12.0    162.56  128.000000\n",
            "64  37.0        36.0      4  16.0    162.56  132.000000\n",
            "..   ...         ...    ...   ...       ...         ...\n",
            "1   33.0        36.0      3  12.0    165.10  145.000000\n",
            "2   27.0        32.0      3   8.0    160.02  128.000000\n",
            "3   29.0        36.0      5  28.0    160.02  140.819444\n",
            "4   32.0        34.0      4   1.0    160.02  115.000000\n",
            "5   35.0        34.0      4  24.0    165.10  165.000000\n",
            "\n",
            "[81 rows x 6 columns]\n"
          ]
        }
      ]
    },
    {
      "cell_type": "code",
      "source": [
        "print(y)"
      ],
      "metadata": {
        "colab": {
          "base_uri": "https://localhost:8080/"
        },
        "id": "9QkCPl_k24n4",
        "outputId": "3af6256e-4a71-4fa6-d75d-255c752b9ce3"
      },
      "execution_count": 24,
      "outputs": [
        {
          "output_type": "stream",
          "name": "stdout",
          "text": [
            "86    1\n",
            "39    3\n",
            "23    4\n",
            "75    4\n",
            "64    5\n",
            "     ..\n",
            "1     4\n",
            "2     1\n",
            "3     4\n",
            "4     4\n",
            "5     4\n",
            "Name: body type, Length: 81, dtype: int64\n"
          ]
        }
      ]
    },
    {
      "cell_type": "code",
      "source": [
        "from sklearn.ensemble import RandomForestClassifier\n",
        "model = RandomForestClassifier(n_estimators=100, \n",
        "                               bootstrap = True,\n",
        "                               max_features = 'sqrt')\n",
        "model.fit(X_train, y_train)\n",
        "y_pred = model.predict(X_test)\n",
        "print(classification_report(y_test, y_pred))\n",
        "print('Accuracy of Random forest classifier on training set: {:.2f}'\n",
        "    .format(model.score(X_train, y_train)))\n",
        "print('Accuracy of Random forest classifier on test set: {:.2f}'\n",
        "     .format(model.score(X_test, y_test)))\n"
      ],
      "metadata": {
        "colab": {
          "base_uri": "https://localhost:8080/"
        },
        "id": "DNcktku724qH",
        "outputId": "37b23a76-612e-4c18-c722-a81df9dab340"
      },
      "execution_count": 25,
      "outputs": [
        {
          "output_type": "stream",
          "name": "stdout",
          "text": [
            "              precision    recall  f1-score   support\n",
            "\n",
            "           1       0.67      0.57      0.62         7\n",
            "           2       0.50      0.50      0.50         2\n",
            "           3       0.33      0.33      0.33         3\n",
            "           4       0.17      0.20      0.18         5\n",
            "           5       0.00      0.00      0.00         2\n",
            "           6       0.50      0.50      0.50         2\n",
            "\n",
            "    accuracy                           0.38        21\n",
            "   macro avg       0.36      0.35      0.36        21\n",
            "weighted avg       0.40      0.38      0.39        21\n",
            "\n",
            "Accuracy of Random forest classifier on training set: 1.00\n",
            "Accuracy of Random forest classifier on test set: 0.38\n"
          ]
        }
      ]
    },
    {
      "cell_type": "code",
      "source": [
        "from sklearn.neighbors import KNeighborsClassifier\n",
        "knn = KNeighborsClassifier()\n",
        "knn.fit(X_train, y_train)\n",
        "y_pred1 = knn.predict(X_test)\n",
        "#print(confusion_matrix(y_test, y_pred1))\n",
        "print(classification_report(y_test, y_pred1))\n",
        "print('Accuracy of K-NN classifier on training set: {:.2f}'\n",
        "     .format(knn.score(X_train, y_train)))\n",
        "print('Accuracy of K-NN classifier on test set: {:.2f}'\n",
        "     .format(knn.score(X_test, y_test)))\n",
        "\n"
      ],
      "metadata": {
        "colab": {
          "base_uri": "https://localhost:8080/"
        },
        "id": "GT0SwMrvsUVP",
        "outputId": "e874a8d1-789c-489d-c269-02b47d566de0"
      },
      "execution_count": 26,
      "outputs": [
        {
          "output_type": "stream",
          "name": "stdout",
          "text": [
            "              precision    recall  f1-score   support\n",
            "\n",
            "           1       0.45      0.71      0.56         7\n",
            "           2       0.00      0.00      0.00         2\n",
            "           3       0.33      0.33      0.33         3\n",
            "           4       0.67      0.40      0.50         5\n",
            "           5       0.00      0.00      0.00         2\n",
            "           6       0.25      0.50      0.33         2\n",
            "\n",
            "    accuracy                           0.43        21\n",
            "   macro avg       0.28      0.32      0.29        21\n",
            "weighted avg       0.38      0.43      0.38        21\n",
            "\n",
            "Accuracy of K-NN classifier on training set: 0.38\n",
            "Accuracy of K-NN classifier on test set: 0.43\n"
          ]
        },
        {
          "output_type": "stream",
          "name": "stderr",
          "text": [
            "/usr/local/lib/python3.7/dist-packages/sklearn/metrics/_classification.py:1318: UndefinedMetricWarning: Precision and F-score are ill-defined and being set to 0.0 in labels with no predicted samples. Use `zero_division` parameter to control this behavior.\n",
            "  _warn_prf(average, modifier, msg_start, len(result))\n",
            "/usr/local/lib/python3.7/dist-packages/sklearn/metrics/_classification.py:1318: UndefinedMetricWarning: Precision and F-score are ill-defined and being set to 0.0 in labels with no predicted samples. Use `zero_division` parameter to control this behavior.\n",
            "  _warn_prf(average, modifier, msg_start, len(result))\n",
            "/usr/local/lib/python3.7/dist-packages/sklearn/metrics/_classification.py:1318: UndefinedMetricWarning: Precision and F-score are ill-defined and being set to 0.0 in labels with no predicted samples. Use `zero_division` parameter to control this behavior.\n",
            "  _warn_prf(average, modifier, msg_start, len(result))\n"
          ]
        }
      ]
    },
    {
      "cell_type": "code",
      "source": [
        "age_Preprocessed_testdata=preprocessAge(test)\n",
        "testdata_bust_size_cleansed=preprocessBustsize(age_Preprocessed_testdata)\n",
        "testdata_bust_size_cleansed=preprocessHeight(testdata_bust_size_cleansed)\n",
        "testdata_bust_size_cleansed=preprocessWeight(testdata_bust_size_cleansed)\n",
        "testdata_bust_size_cleansed=preprocessRentedFor(testdata_bust_size_cleansed)\n",
        "cleansedTestData=preprocessBodytype(testdata_bust_size_cleansed)\n",
        "final_test_df=createFinalTestDataframe(cleansedTestData)"
      ],
      "metadata": {
        "id": "JHBXyv4D4QNC",
        "colab": {
          "base_uri": "https://localhost:8080/"
        },
        "outputId": "6d7f1619-7376-47e0-ce23-db524ed78f79"
      },
      "execution_count": 27,
      "outputs": [
        {
          "output_type": "stream",
          "name": "stderr",
          "text": [
            "/usr/local/lib/python3.7/dist-packages/ipykernel_launcher.py:3: SettingWithCopyWarning: \n",
            "A value is trying to be set on a copy of a slice from a DataFrame.\n",
            "Try using .loc[row_indexer,col_indexer] = value instead\n",
            "\n",
            "See the caveats in the documentation: https://pandas.pydata.org/pandas-docs/stable/user_guide/indexing.html#returning-a-view-versus-a-copy\n",
            "  This is separate from the ipykernel package so we can avoid doing imports until\n",
            "/usr/local/lib/python3.7/dist-packages/pandas/core/frame.py:3641: SettingWithCopyWarning: \n",
            "A value is trying to be set on a copy of a slice from a DataFrame.\n",
            "Try using .loc[row_indexer,col_indexer] = value instead\n",
            "\n",
            "See the caveats in the documentation: https://pandas.pydata.org/pandas-docs/stable/user_guide/indexing.html#returning-a-view-versus-a-copy\n",
            "  self[k1] = value[k2]\n",
            "/usr/local/lib/python3.7/dist-packages/ipykernel_launcher.py:9: SettingWithCopyWarning: \n",
            "A value is trying to be set on a copy of a slice from a DataFrame.\n",
            "Try using .loc[row_indexer,col_indexer] = value instead\n",
            "\n",
            "See the caveats in the documentation: https://pandas.pydata.org/pandas-docs/stable/user_guide/indexing.html#returning-a-view-versus-a-copy\n",
            "  if __name__ == '__main__':\n"
          ]
        }
      ]
    },
    {
      "cell_type": "code",
      "source": [
        "feature_names = ['age', 'bust Size1','bust1','size','heightCM','weightLbs','rented for','user_id']\n",
        "testdata = final_test_df[feature_names]"
      ],
      "metadata": {
        "id": "PdMNEqXt4QQC"
      },
      "execution_count": 28,
      "outputs": []
    },
    {
      "cell_type": "code",
      "source": [
        "for col in testdata.columns:\n",
        "    print(col)"
      ],
      "metadata": {
        "colab": {
          "base_uri": "https://localhost:8080/"
        },
        "id": "_5s8HaXX7LsT",
        "outputId": "17018a49-a39e-4b82-b858-5ebe25516d11"
      },
      "execution_count": 29,
      "outputs": [
        {
          "output_type": "stream",
          "name": "stdout",
          "text": [
            "age\n",
            "bust Size1\n",
            "bust1\n",
            "size\n",
            "heightCM\n",
            "weightLbs\n",
            "rented for\n",
            "user_id\n"
          ]
        }
      ]
    },
    {
      "cell_type": "code",
      "source": [
        "print(testdata)"
      ],
      "metadata": {
        "colab": {
          "base_uri": "https://localhost:8080/"
        },
        "id": "actQUqww4QSy",
        "outputId": "16d83d74-6e49-4d03-b1ce-80eee58dd43b"
      },
      "execution_count": 30,
      "outputs": [
        {
          "output_type": "stream",
          "name": "stdout",
          "text": [
            "      age  bust Size1  bust1  size  heightCM  weightLbs     rented for  user_id\n",
            "5    45.0          32    2.0   8.0    172.72   138.0000           date   734848\n",
            "30   39.0          36    4.0  14.0    154.94   134.1875          other   648840\n",
            "22   27.0          32    1.0   1.0    152.40   105.0000          party   697930\n",
            "13   53.0          34    3.0  12.0    165.10   140.0000           work   946060\n",
            "70   36.0          32    3.0  16.0    180.34   140.0000       everyday   440239\n",
            "90   70.0          36    2.0  14.0    165.10   135.0000       everyday   162244\n",
            "51   32.0          34    2.0   4.0    162.56   112.0000          party   145159\n",
            "79   31.0          34    2.0  12.0    167.64   134.1875          party   312823\n",
            "68   29.0          36    2.0   8.0    152.40   134.1875        wedding   324412\n",
            "36   26.0          34    5.0  12.0    167.64   145.0000  formal affair   199544\n",
            "103  32.0          36    1.0   8.0    172.72   150.0000        wedding   329989\n",
            "54   35.0          32    1.0   1.0    157.48   134.1875          party   480611\n",
            "85   34.0          34    5.0   8.0    160.02   124.0000           date   321447\n",
            "14   35.0          38    2.0  24.0    149.86   165.0000        wedding   505854\n",
            "11   26.0          36    3.0  20.0    162.56   155.0000  formal affair   806370\n",
            "46   37.0          34    3.0   8.0    172.72   127.0000           work   678149\n",
            "6    27.0          34    3.0   4.0    160.02   112.0000       everyday   336066\n",
            "1    55.0          34    3.0  16.0    170.18   145.0000        wedding   450176\n",
            "2    38.0          34    2.0   4.0    162.56   114.0000           work   503301\n",
            "3    40.0          34    2.0  12.0    177.80   134.1875           work   283292\n",
            "0    27.0          34    3.0   8.0    175.26   140.0000       everyday   549001\n"
          ]
        }
      ]
    },
    {
      "cell_type": "code",
      "source": [
        "import matplotlib.pyplot as plt\n",
        "import matplotlib.image as mpimg"
      ],
      "metadata": {
        "id": "4a67cGqu-bgM"
      },
      "execution_count": 31,
      "outputs": []
    },
    {
      "cell_type": "code",
      "source": [
        "#%cd .."
      ],
      "metadata": {
        "id": "RsfxYiPePuOT"
      },
      "execution_count": null,
      "outputs": []
    },
    {
      "cell_type": "code",
      "source": [
        "print(final_df)"
      ],
      "metadata": {
        "id": "CoIgJ2ywV3Oq",
        "colab": {
          "base_uri": "https://localhost:8080/"
        },
        "outputId": "b9081a68-5d23-4e9a-98b4-6c3be18dd64b"
      },
      "execution_count": 32,
      "outputs": [
        {
          "output_type": "stream",
          "name": "stdout",
          "text": [
            "     age  body type  bust Size1  bust1  heightCM  product  size   weightLbs\n",
            "86  31.0          1        34.0      2    167.64  555.jpg  17.0  130.000000\n",
            "39  37.0          3        34.0      3    175.26  515.jpg  16.0  160.000000\n",
            "23  36.0          4        36.0      3    170.18  101.jpg  17.0  155.000000\n",
            "75  44.0          4        34.0      2    162.56   44.jpg  12.0  128.000000\n",
            "64  37.0          5        36.0      4    162.56  419.jpg  16.0  132.000000\n",
            "..   ...        ...         ...    ...       ...      ...   ...         ...\n",
            "1   33.0          4        36.0      3    165.10  126.jpg  12.0  145.000000\n",
            "2   27.0          1        32.0      3    160.02  191.jpg   8.0  128.000000\n",
            "3   29.0          4        36.0      5    160.02  733.jpg  28.0  140.819444\n",
            "4   32.0          4        34.0      4    160.02  149.jpg   1.0  115.000000\n",
            "5   35.0          4        34.0      4    165.10  671.jpg  24.0  165.000000\n",
            "\n",
            "[81 rows x 8 columns]\n"
          ]
        }
      ]
    },
    {
      "cell_type": "code",
      "source": [
        "cf_df=[]\n",
        "age = input(\"Enter age:\")\n",
        "bustSize1 = input(\"Enter bust size:\")\n",
        "bust1 = input(\"Enter cup size:\")#bust size-band size\n",
        "size = input(\"Enter size:\")#dress size\n",
        "heightCM = input(\"Enter height cm:\")\n",
        "weightLbs = input(\"Enter weight lbs:\")\n",
        "rented_for = input(\"Enter occasion:\")\n",
        "    \n",
        "xnew=[[age,bustSize1,bust1,size,heightCM,weightLbs]]\n",
        "bodytypenumber=model.predict(xnew)\n",
        "\n",
        "bodytypearray=[\"NaN\",\"hourglass\", \"straight & narrow\", \"pear\",\"athletic\", \"full bust\",\"petite\", \"apple\"]\n",
        "bodytype=np.asanyarray(bodytypearray)[bodytypenumber]\n",
        "print(\"Predicted body type:\",bodytype)\n",
        "    \n",
        "cluster_df=cleansedData.copy()\n",
        "groupedbybodytype = cluster_df.groupby('body type')\n",
        "for name,group in groupedbybodytype:\n",
        "  if(bodytype==name):\n",
        "    grouped_df=group.copy()\n",
        "  rentedFor=rented_for\n",
        "\n",
        "groupedbybodytype = grouped_df.groupby('rented for')\n",
        "for name,group in groupedbybodytype:\n",
        "  if(rentedFor==name):\n",
        "    cf_df=group.copy()\n",
        "cf_df=cf_df[['user_id','item_id','rating']].copy()\n",
        "    \n",
        "    \n",
        "reader = Reader(rating_scale=(1,10))\n",
        "traindata=Dataset.load_from_df(cf_df,reader)\n",
        "trainingSet = traindata.build_full_trainset()\n",
        "    \n",
        "svdAlgo = SVD(n_factors=200,n_epochs=50)\n",
        "svdAlgo.fit(trainingSet)\n",
        "    \n",
        "itemid=cf_df['item_id'].unique()\n",
        "ratingOutput = pd.DataFrame(columns=['item_id', 'rating']) #Create a blank df with 2 columns at first and then append data\n",
        "    \n",
        "for i in range(len(itemid)):\n",
        "  user=cf_df.iloc[i,0] #User_id\n",
        "  item=cf_df.iloc[i,1] #Item_id\n",
        "  output=svdAlgo.predict(user,item,r_ui=None,clip=True,verbose=False)\n",
        "  ratingOutput = ratingOutput.append({'item_id': item, 'rating': output.est}, ignore_index=True)\n",
        "        \n",
        "ratingOutput=ratingOutput.sort_values('rating',ascending=False)\n",
        "outputdf=ratingOutput.head(10).copy()\n",
        "    #print(\"Top 10 recommended items with their predicted ratings:\")\n",
        "    #outputdf.head()\n",
        "rawdf = pd.read_excel(\"dataset_cloth_recom.xlsx\")\n",
        "itemID=outputdf['item_id'].iloc[0]#.astype('int64')\n",
        "print(\"Recommended itemID:\",itemID)\n",
        "finaldf = (rawdf[rawdf['item_id']==itemID].iloc[0])\n",
        "print(\"Recommended category:\",finaldf['category'])\n",
        "finalpro = (rawdf[rawdf['item_id']==itemID].iloc[0])\n",
        "print(\"Recommended product:\",finaldf['product'])\n",
        "print(\"Occasion:\",finaldf['rented for'])\n",
        "plt.imshow(mpimg.imread(finaldf['product']))\n",
        "    \n"
      ],
      "metadata": {
        "colab": {
          "base_uri": "https://localhost:8080/",
          "height": 549
        },
        "id": "cBPrzPB07ZXZ",
        "outputId": "d41c2669-37e4-48f2-976e-499bb1198dfa"
      },
      "execution_count": 33,
      "outputs": [
        {
          "name": "stdout",
          "output_type": "stream",
          "text": [
            "Enter age:46\n",
            "Enter bust size:45\n",
            "Enter cup size:5\n",
            "Enter size:20\n",
            "Enter height cm:159\n",
            "Enter weight lbs:176\n",
            "Enter occasion:other\n"
          ]
        },
        {
          "output_type": "stream",
          "name": "stderr",
          "text": [
            "/usr/local/lib/python3.7/dist-packages/sklearn/base.py:451: UserWarning: X does not have valid feature names, but RandomForestClassifier was fitted with feature names\n",
            "  \"X does not have valid feature names, but\"\n"
          ]
        },
        {
          "output_type": "stream",
          "name": "stdout",
          "text": [
            "Predicted body type: ['full bust']\n",
            "Recommended itemID: 136110\n",
            "Recommended category: dress\n",
            "Recommended product: 16.jpg\n",
            "Occasion: other\n"
          ]
        },
        {
          "output_type": "execute_result",
          "data": {
            "text/plain": [
              "<matplotlib.image.AxesImage at 0x7fd892c73dd0>"
            ]
          },
          "metadata": {},
          "execution_count": 33
        },
        {
          "output_type": "display_data",
          "data": {
            "image/png": "[encoded data removed]",
            "text/plain": [
              "<Figure size 432x288 with 1 Axes>"
            ]
          },
          "metadata": {
            "needs_background": "light"
          }
        }
      ]
    }
  ]
}