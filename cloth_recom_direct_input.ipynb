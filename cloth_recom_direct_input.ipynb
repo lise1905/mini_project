{
  "nbformat": 4,
  "nbformat_minor": 0,
  "metadata": {
    "colab": {
      "name": "cloth_recom_direct_input.ipynb",
      "provenance": [],
      "include_colab_link": true
    },
    "kernelspec": {
      "name": "python3",
      "display_name": "Python 3"
    },
    "language_info": {
      "name": "python"
    },
    "accelerator": "TPU"
  },
  "cells": [
    {
      "cell_type": "markdown",
      "metadata": {
        "id": "view-in-github",
        "colab_type": "text"
      },
      "source": [
        "<a href=\"https://colab.research.google.com/github/lise1905/mini_project/blob/main/cloth_recom_direct_input.ipynb\" target=\"_parent\"><img src=\"https://colab.research.google.com/assets/colab-badge.svg\" alt=\"Open In Colab\"/></a>"
      ]
    },
    {
      "cell_type": "code",
      "execution_count": 4,
      "metadata": {
        "id": "f-6Fo4WLE2Wn"
      },
      "outputs": [],
      "source": [
        "import pandas as pd\n",
        "from pandas import ExcelWriter\n",
        "from pandas import ExcelFile\n",
        "from sklearn.model_selection import train_test_split\n",
        "import numpy as np\n",
        "from sklearn.metrics import classification_report, confusion_matrix\n"
      ]
    },
    {
      "cell_type": "code",
      "source": [
        "#!pip install anvil-uplink"
      ],
      "metadata": {
        "colab": {
          "base_uri": "https://localhost:8080/",
          "height": 419
        },
        "id": "H-nZc4faeao5",
        "outputId": "3aeffdcc-08bd-4f29-fdbc-a4fe92b4bfe5"
      },
      "execution_count": 1,
      "outputs": [
        {
          "output_type": "stream",
          "name": "stdout",
          "text": [
            "Collecting anvil-uplink\n",
            "  Downloading anvil_uplink-0.3.42-py2.py3-none-any.whl (64 kB)\n",
            "\u001b[?25l\r\u001b[K     |█████                           | 10 kB 18.0 MB/s eta 0:00:01\r\u001b[K     |██████████▏                     | 20 kB 12.3 MB/s eta 0:00:01\r\u001b[K     |███████████████▏                | 30 kB 9.6 MB/s eta 0:00:01\r\u001b[K     |████████████████████▎           | 40 kB 8.7 MB/s eta 0:00:01\r\u001b[K     |█████████████████████████▎      | 51 kB 4.6 MB/s eta 0:00:01\r\u001b[K     |██████████████████████████████▍ | 61 kB 5.4 MB/s eta 0:00:01\r\u001b[K     |████████████████████████████████| 64 kB 2.0 MB/s \n",
            "\u001b[?25hRequirement already satisfied: six in /usr/local/lib/python3.7/dist-packages (from anvil-uplink) (1.15.0)\n",
            "Collecting ws4py\n",
            "  Downloading ws4py-0.5.1.tar.gz (51 kB)\n",
            "\u001b[K     |████████████████████████████████| 51 kB 160 kB/s \n",
            "\u001b[?25hCollecting argparse\n",
            "  Downloading argparse-1.4.0-py2.py3-none-any.whl (23 kB)\n",
            "Requirement already satisfied: future in /usr/local/lib/python3.7/dist-packages (from anvil-uplink) (0.16.0)\n",
            "Building wheels for collected packages: ws4py\n",
            "  Building wheel for ws4py (setup.py) ... \u001b[?25l\u001b[?25hdone\n",
            "  Created wheel for ws4py: filename=ws4py-0.5.1-py3-none-any.whl size=45229 sha256=df84bb1dc43e60090ff6a51814f22a4f8ee1b3fefc14187a70a9f28c6afb45d6\n",
            "  Stored in directory: /root/.cache/pip/wheels/29/ea/7d/3410aa0aa0e4402ead9a7a97ab2214804887e0f5c2b76f0c96\n",
            "Successfully built ws4py\n",
            "Installing collected packages: ws4py, argparse, anvil-uplink\n",
            "Successfully installed anvil-uplink-0.3.42 argparse-1.4.0 ws4py-0.5.1\n"
          ]
        },
        {
          "output_type": "display_data",
          "data": {
            "application/vnd.colab-display-data+json": {
              "pip_warning": {
                "packages": [
                  "argparse",
                  "google"
                ]
              }
            }
          },
          "metadata": {}
        }
      ]
    },
    {
      "cell_type": "code",
      "source": [
        "#import anvil.server"
      ],
      "metadata": {
        "id": "oA4pJ49Aeb5I"
      },
      "execution_count": 2,
      "outputs": []
    },
    {
      "cell_type": "code",
      "source": [
        "#anvil.server.connect(\"7RJFIBTRQEAO5V264Q4MOWNY-RQVFY27EZYQHNA7K\")"
      ],
      "metadata": {
        "colab": {
          "base_uri": "https://localhost:8080/"
        },
        "id": "11xRzzGgeb70",
        "outputId": "85f63430-acf7-4c9d-db58-54bdc718cae6"
      },
      "execution_count": 3,
      "outputs": [
        {
          "output_type": "stream",
          "name": "stdout",
          "text": [
            "Connecting to wss://anvil.works/uplink\n",
            "Anvil websocket open\n",
            "Connected to \"Default environment\" as SERVER\n"
          ]
        }
      ]
    },
    {
      "cell_type": "code",
      "source": [
        ""
      ],
      "metadata": {
        "id": "U_TNjEUAeb-V"
      },
      "execution_count": null,
      "outputs": []
    },
    {
      "cell_type": "code",
      "source": [
        "#pip install flask-ngrok"
      ],
      "metadata": {
        "id": "X9vdtw8afMmh"
      },
      "execution_count": 3,
      "outputs": []
    },
    {
      "cell_type": "code",
      "source": [
        "from google.colab import drive\n",
        "drive.mount('/content/drive')"
      ],
      "metadata": {
        "colab": {
          "base_uri": "https://localhost:8080/"
        },
        "id": "-4YCzwLoyODc",
        "outputId": "22d1c4c0-b415-412f-e4dd-22fbde201515"
      },
      "execution_count": 5,
      "outputs": [
        {
          "output_type": "stream",
          "name": "stdout",
          "text": [
            "Mounted at /content/drive\n"
          ]
        }
      ]
    },
    {
      "cell_type": "code",
      "source": [
        "%cd /content/drive/MyDrive/Colab Notebooks/mini_project"
      ],
      "metadata": {
        "colab": {
          "base_uri": "https://localhost:8080/"
        },
        "id": "Am5xW6v8WNJ4",
        "outputId": "68c08987-fb01-406a-a6b6-bdcc8be188c2"
      },
      "execution_count": 6,
      "outputs": [
        {
          "output_type": "stream",
          "name": "stdout",
          "text": [
            "/content/drive/MyDrive/Colab Notebooks/mini_project\n"
          ]
        }
      ]
    },
    {
      "cell_type": "code",
      "source": [
        "df = pd.read_excel('dataset_cloth_recom.xlsx')"
      ],
      "metadata": {
        "id": "eOHPIRXlE-Xf"
      },
      "execution_count": 7,
      "outputs": []
    },
    {
      "cell_type": "code",
      "source": [
        "print(df.head(10))"
      ],
      "metadata": {
        "colab": {
          "base_uri": "https://localhost:8080/"
        },
        "id": "bDut4A0fE-aG",
        "outputId": "117d7f5f-a240-4a69-c9c5-258d88b1c27c"
      },
      "execution_count": 8,
      "outputs": [
        {
          "output_type": "stream",
          "name": "stdout",
          "text": [
            "   fit  user_id bust size  item_id  weight  ...  category height  size    age product\n",
            "0  fit   420272       34d  2260466  137lbs  ...    romper  5' 8\"  14.0   28.0   1.jpg\n",
            "1  fit   273551       34b   153475  132lbs  ...      gown  5' 6\"  12.0   36.0   2.jpg\n",
            "2  fit   360448       NaN  1063761     NaN  ...    sheath  5' 4\"   4.0  116.0  15.jpg\n",
            "3  fit   909926       34c   126335  135lbs  ...     dress  5' 5\"   8.0   34.0   4.jpg\n",
            "4  fit   151944       34b   616682  145lbs  ...      gown  5' 9\"  12.0   27.0   5.jpg\n",
            "5  fit   734848       32b   364092  138lbs  ...     dress  5' 8\"   8.0   45.0   6.jpg\n",
            "6  fit   336066       34c   568429  112lbs  ...     dress  5' 3\"   4.0   27.0   7.jpg\n",
            "7  fit    86661      34d+   130259  118lbs  ...     dress  5' 3\"   8.0   65.0   8.jpg\n",
            "8  fit   166228       36d  1729232     NaN  ...      gown  5' 6\"  21.0   27.0   9.jpg\n",
            "9  fit   126461       36c   132135  129lbs  ...      gown  5' 6\"   7.0   20.0  10.jpg\n",
            "\n",
            "[10 rows x 15 columns]\n"
          ]
        }
      ]
    },
    {
      "cell_type": "code",
      "source": [
        "data=df.drop(['review_text','review_summary'],axis = 1)"
      ],
      "metadata": {
        "id": "0iDkEwHLiLwz"
      },
      "execution_count": 9,
      "outputs": []
    },
    {
      "cell_type": "code",
      "source": [
        "data.dtypes"
      ],
      "metadata": {
        "id": "YXtBe2AnF6oj",
        "colab": {
          "base_uri": "https://localhost:8080/"
        },
        "outputId": "c17e47e3-a806-40a8-853e-c8175ff5fc7a"
      },
      "execution_count": 10,
      "outputs": [
        {
          "output_type": "execute_result",
          "data": {
            "text/plain": [
              "fit            object\n",
              "user_id         int64\n",
              "bust size      object\n",
              "item_id         int64\n",
              "weight         object\n",
              "rating          int64\n",
              "rented for     object\n",
              "body type      object\n",
              "category       object\n",
              "height         object\n",
              "size          float64\n",
              "age           float64\n",
              "product        object\n",
              "dtype: object"
            ]
          },
          "metadata": {},
          "execution_count": 10
        }
      ]
    },
    {
      "cell_type": "code",
      "source": [
        "print(data.head(10))"
      ],
      "metadata": {
        "colab": {
          "base_uri": "https://localhost:8080/"
        },
        "id": "ypPC0MNok9Xx",
        "outputId": "463d5981-5243-4546-88c4-d5df4d890ef6"
      },
      "execution_count": 11,
      "outputs": [
        {
          "output_type": "stream",
          "name": "stdout",
          "text": [
            "   fit  user_id bust size  item_id  weight  ...  category height  size    age product\n",
            "0  fit   420272       34d  2260466  137lbs  ...    romper  5' 8\"  14.0   28.0   1.jpg\n",
            "1  fit   273551       34b   153475  132lbs  ...      gown  5' 6\"  12.0   36.0   2.jpg\n",
            "2  fit   360448       NaN  1063761     NaN  ...    sheath  5' 4\"   4.0  116.0  15.jpg\n",
            "3  fit   909926       34c   126335  135lbs  ...     dress  5' 5\"   8.0   34.0   4.jpg\n",
            "4  fit   151944       34b   616682  145lbs  ...      gown  5' 9\"  12.0   27.0   5.jpg\n",
            "5  fit   734848       32b   364092  138lbs  ...     dress  5' 8\"   8.0   45.0   6.jpg\n",
            "6  fit   336066       34c   568429  112lbs  ...     dress  5' 3\"   4.0   27.0   7.jpg\n",
            "7  fit    86661      34d+   130259  118lbs  ...     dress  5' 3\"   8.0   65.0   8.jpg\n",
            "8  fit   166228       36d  1729232     NaN  ...      gown  5' 6\"  21.0   27.0   9.jpg\n",
            "9  fit   126461       36c   132135  129lbs  ...      gown  5' 6\"   7.0   20.0  10.jpg\n",
            "\n",
            "[10 rows x 13 columns]\n"
          ]
        }
      ]
    },
    {
      "cell_type": "code",
      "source": [
        "pip install surprise"
      ],
      "metadata": {
        "id": "0MfKK8nrIxJ4",
        "colab": {
          "base_uri": "https://localhost:8080/"
        },
        "outputId": "5ebb70e5-dc1a-499c-d27d-c2b96850a1be"
      },
      "execution_count": 12,
      "outputs": [
        {
          "output_type": "stream",
          "name": "stdout",
          "text": [
            "Collecting surprise\n",
            "  Downloading surprise-0.1-py2.py3-none-any.whl (1.8 kB)\n",
            "Collecting scikit-surprise\n",
            "  Downloading scikit-surprise-1.1.1.tar.gz (11.8 MB)\n",
            "\u001b[K     |████████████████████████████████| 11.8 MB 4.9 MB/s \n",
            "\u001b[?25hRequirement already satisfied: joblib>=0.11 in /usr/local/lib/python3.7/dist-packages (from scikit-surprise->surprise) (1.1.0)\n",
            "Requirement already satisfied: numpy>=1.11.2 in /usr/local/lib/python3.7/dist-packages (from scikit-surprise->surprise) (1.21.5)\n",
            "Requirement already satisfied: scipy>=1.0.0 in /usr/local/lib/python3.7/dist-packages (from scikit-surprise->surprise) (1.4.1)\n",
            "Requirement already satisfied: six>=1.10.0 in /usr/local/lib/python3.7/dist-packages (from scikit-surprise->surprise) (1.15.0)\n",
            "Building wheels for collected packages: scikit-surprise\n",
            "  Building wheel for scikit-surprise (setup.py) ... \u001b[?25l\u001b[?25hdone\n",
            "  Created wheel for scikit-surprise: filename=scikit_surprise-1.1.1-cp37-cp37m-linux_x86_64.whl size=1630208 sha256=51b426de1c15d5f2970acc7f739f8a77fdb7cc83774b3d027b1abdaa87ddd21d\n",
            "  Stored in directory: /root/.cache/pip/wheels/76/44/74/b498c42be47b2406bd27994e16c5188e337c657025ab400c1c\n",
            "Successfully built scikit-surprise\n",
            "Installing collected packages: scikit-surprise, surprise\n",
            "Successfully installed scikit-surprise-1.1.1 surprise-0.1\n"
          ]
        }
      ]
    },
    {
      "cell_type": "code",
      "source": [
        "from surprise import Dataset\n",
        "from surprise import Reader\n",
        "import os, io\n",
        "from surprise import SVD\n",
        "from surprise import accuracy"
      ],
      "metadata": {
        "id": "OsHKCpLvE-c1"
      },
      "execution_count": 13,
      "outputs": []
    },
    {
      "cell_type": "code",
      "source": [
        "train, test = train_test_split(data, test_size=0.2)"
      ],
      "metadata": {
        "id": "hvj8r8dS32oK"
      },
      "execution_count": 14,
      "outputs": []
    },
    {
      "cell_type": "code",
      "source": [
        "def preprocessAge(data):\n",
        "  bins = pd.IntervalIndex.from_tuples([(5, 15), (15, 30), (30, 50),(50,65),(65,100)])\n",
        "  x = pd.cut(data['age'].to_list(), bins)\n",
        "  x.categories = ['1','2','3','4','5']\n",
        "  data['age_bins']  = x\n",
        "  age_Preprocessed_data = data[~data['age_bins'].isnull()]\n",
        "  # print ('{0} rows got dropped after age preprocessing'.format(str(data.shape[0] - age_Preprocessed_data.shape[0])))\n",
        "  return age_Preprocessed_data"
      ],
      "metadata": {
        "id": "ZA6UT5IpKDJ4"
      },
      "execution_count": 15,
      "outputs": []
    },
    {
      "cell_type": "code",
      "source": [
        "def preprocessBustsize(age_Preprocessed_data):\n",
        "  data_bust_size_not_null = age_Preprocessed_data[~age_Preprocessed_data['bust size'].isnull()]\n",
        "  data_bust_size_not_null['bust size'] = data_bust_size_not_null['bust size'].apply(lambda x : (int(x[:2]), x[2:]))\n",
        "  data_bust_size_not_null.shape\n",
        "  data_bust_size_not_null[['bust Size1', 'bust']] = pd.DataFrame(data_bust_size_not_null['bust size'].tolist(), index=data_bust_size_not_null.index)\n",
        "  bustDict = {'a': 1, 'aa': 1, 'b': 2, 'c': 3, 'd': 4, \n",
        "            'd+': 5, 'dd': 5, 'ddd/e': 6,\n",
        "           'f':7 , 'g': 8, 'h': 9, 'i': 10, 'j': 11}\n",
        "  data_bust_size_not_null['bust1'] = data_bust_size_not_null['bust'].map(bustDict)\n",
        "  # Calculating model of bust size based on age grp.\n",
        "  def funct(df):\n",
        "    return df.mode()\n",
        "  x = data_bust_size_not_null[['age_bins','bust Size1','bust1']].groupby('age_bins').apply(funct)\n",
        "  x.reset_index(inplace= True, drop = True)\n",
        "  data_bust_size_null = age_Preprocessed_data[age_Preprocessed_data['bust size'].isnull()]\n",
        "  data_bust_size_null = pd.merge(data_bust_size_null, x, how ='left', left_on = 'age_bins', right_on = 'age_bins')\n",
        "  data_bust_size_cleansed = data_bust_size_not_null.append(data_bust_size_null)\n",
        "  return data_bust_size_cleansed"
      ],
      "metadata": {
        "id": "dUSyjDXIF3Fh"
      },
      "execution_count": 16,
      "outputs": []
    },
    {
      "cell_type": "code",
      "source": [
        "def preprocessHeight(data_bust_size_cleansed):\n",
        "  data_bust_size_cleansed['heightCM'] = data_bust_size_cleansed['height'].apply(lambda x : (int(x.split(\"\\'\")[0]) * 30.48) + (int(x.split(\"\\'\")[1][:-1]) * 2.54) \n",
        "                                                        if type(x) == str else x)\n",
        "  data_bust_size_cleansed['heightCM'].fillna((data_bust_size_cleansed['heightCM'].mean()), inplace=True)\n",
        "  return data_bust_size_cleansed"
      ],
      "metadata": {
        "id": "WT66KENaE-fH"
      },
      "execution_count": 17,
      "outputs": []
    },
    {
      "cell_type": "code",
      "source": [
        "def preprocessWeight(data_bust_size_cleansed):\n",
        "  data_bust_size_cleansed['weightLbs'] = data_bust_size_cleansed['weight'].apply(lambda x : int(x[:-3])                                                        if type(x) == str else x)\n",
        "  data_bust_size_cleansed['weightLbs'].fillna((data_bust_size_cleansed['weightLbs'].mean()), inplace=True)\n",
        "  return data_bust_size_cleansed"
      ],
      "metadata": {
        "id": "fAKmBRmX76fG"
      },
      "execution_count": 18,
      "outputs": []
    },
    {
      "cell_type": "code",
      "source": [
        "def preprocessRentedFor(data_bust_size_cleansed):\n",
        "  data_bust_size_cleansed['rented for'].fillna('other', inplace=True)\n",
        "  return data_bust_size_cleansed"
      ],
      "metadata": {
        "id": "3KWxMDir8d4S"
      },
      "execution_count": 19,
      "outputs": []
    },
    {
      "cell_type": "code",
      "source": [
        "def preprocessBodytype(data_bust_size_cleansed):\n",
        "  # Calculating model of body type based on Bust Size.\n",
        "  data_body_type_not_null = data_bust_size_cleansed[~data_bust_size_cleansed['body type'].isnull()]\n",
        "  def func(df):\n",
        "    return df.mode()\n",
        "  x = data_body_type_not_null[['bust Size1','body type']].groupby('bust Size1').apply(func)\n",
        "  x.reset_index(inplace= True, drop = True)\n",
        "  # print(x)\n",
        "  data_body_type_null = data_bust_size_cleansed[data_bust_size_cleansed['body type'].isnull()]\n",
        "  data_body_type_null = pd.merge(data_body_type_null, x, how ='left', left_on = 'bust Size1', right_on = 'bust Size1')\n",
        "  # print(data_body_type_null)\n",
        "  data_body_type_cleansed = data_body_type_not_null.append(data_body_type_null,sort=True)\n",
        "  # print(data_body_type_cleansed)\n",
        "  data_body_type_cleansed['body type'].fillna(data_body_type_cleansed['body type_y'], inplace=True)\n",
        "  del data_body_type_cleansed['body type_x']\n",
        "  del data_body_type_cleansed['body type_y']\n",
        "  return data_body_type_cleansed"
      ],
      "metadata": {
        "id": "xwQZQA068d7u"
      },
      "execution_count": 20,
      "outputs": []
    },
    {
      "cell_type": "code",
      "source": [
        "def createFinalDataframe(cleansedData):\n",
        "  final_df=cleansedData.copy()\n",
        "  final_df=final_df.drop(['rented for','rating','category','age_bins','bust','bust size','fit','height','item_id','user_id','weight'],axis=1)\n",
        "  cleanup_nums = {\"body type\":     {\"hourglass\": 1, \"straight & narrow\": 2, \"pear\": 3,\"athletic\": 4, \"full bust\": 5,\"petite\": 6, \"apple\": 7}}\n",
        "  final_df.replace(cleanup_nums, inplace=True)\n",
        "  return final_df"
      ],
      "metadata": {
        "id": "zdlQoz4z3ptC"
      },
      "execution_count": 21,
      "outputs": []
    },
    {
      "cell_type": "code",
      "source": [
        "def createFinalTestDataframe(cleansedData):\n",
        "  final_df=cleansedData.copy()\n",
        "  final_df=final_df.drop(['rating','category','age_bins','bust','bust size','fit','height','item_id','weight'],axis=1)\n",
        "  cleanup_nums = {\"body type\":     {\"hourglass\": 1, \"straight & narrow\": 2, \"pear\": 3,\"athletic\": 4, \"full bust\": 5,\"petite\": 6, \"apple\": 7}}\n",
        "  final_df.replace(cleanup_nums, inplace=True)\n",
        "  return final_df"
      ],
      "metadata": {
        "id": "93PJLcFF3pwY"
      },
      "execution_count": 22,
      "outputs": []
    },
    {
      "cell_type": "code",
      "source": [
        "age_Preprocessed_data=preprocessAge(train)\n",
        "data_bust_size_cleansed=preprocessBustsize(age_Preprocessed_data)\n",
        "data_bust_size_cleansed=preprocessHeight(data_bust_size_cleansed)\n",
        "data_bust_size_cleansed=preprocessWeight(data_bust_size_cleansed)\n",
        "data_bust_size_cleansed=preprocessRentedFor(data_bust_size_cleansed)\n",
        "cleansedData=preprocessBodytype(data_bust_size_cleansed)\n",
        "final_df=createFinalDataframe(cleansedData)"
      ],
      "metadata": {
        "colab": {
          "base_uri": "https://localhost:8080/"
        },
        "id": "mscmjP673yDD",
        "outputId": "b8d89cb2-a131-4b2b-e2f5-d3a0005e18a6"
      },
      "execution_count": 23,
      "outputs": [
        {
          "output_type": "stream",
          "name": "stderr",
          "text": [
            "/usr/local/lib/python3.7/dist-packages/ipykernel_launcher.py:3: SettingWithCopyWarning: \n",
            "A value is trying to be set on a copy of a slice from a DataFrame.\n",
            "Try using .loc[row_indexer,col_indexer] = value instead\n",
            "\n",
            "See the caveats in the documentation: https://pandas.pydata.org/pandas-docs/stable/user_guide/indexing.html#returning-a-view-versus-a-copy\n",
            "  This is separate from the ipykernel package so we can avoid doing imports until\n",
            "/usr/local/lib/python3.7/dist-packages/pandas/core/frame.py:3641: SettingWithCopyWarning: \n",
            "A value is trying to be set on a copy of a slice from a DataFrame.\n",
            "Try using .loc[row_indexer,col_indexer] = value instead\n",
            "\n",
            "See the caveats in the documentation: https://pandas.pydata.org/pandas-docs/stable/user_guide/indexing.html#returning-a-view-versus-a-copy\n",
            "  self[k1] = value[k2]\n",
            "/usr/local/lib/python3.7/dist-packages/ipykernel_launcher.py:9: SettingWithCopyWarning: \n",
            "A value is trying to be set on a copy of a slice from a DataFrame.\n",
            "Try using .loc[row_indexer,col_indexer] = value instead\n",
            "\n",
            "See the caveats in the documentation: https://pandas.pydata.org/pandas-docs/stable/user_guide/indexing.html#returning-a-view-versus-a-copy\n",
            "  if __name__ == '__main__':\n"
          ]
        }
      ]
    },
    {
      "cell_type": "code",
      "source": [
        "feature_names = ['age', 'bust Size1','bust1','size','heightCM','weightLbs']\n",
        "X = final_df[feature_names]\n",
        "y = final_df['body type']\n",
        "from sklearn.model_selection import train_test_split\n",
        "X_train, X_test, y_train, y_test = train_test_split(X, y, random_state=0)"
      ],
      "metadata": {
        "id": "xG94SlQj24i4"
      },
      "execution_count": 24,
      "outputs": []
    },
    {
      "cell_type": "code",
      "source": [
        "print(X)"
      ],
      "metadata": {
        "colab": {
          "base_uri": "https://localhost:8080/"
        },
        "id": "S6hzozi824lo",
        "outputId": "3691203b-f7da-4791-80bf-446624709796"
      },
      "execution_count": 25,
      "outputs": [
        {
          "output_type": "stream",
          "name": "stdout",
          "text": [
            "     age  bust Size1  bust1  size  heightCM  weightLbs\n",
            "70  36.0        32.0      3  16.0    180.34      140.0\n",
            "53  33.0        36.0      4  16.0    165.10      190.0\n",
            "89  48.0        34.0      3  24.0    172.72      138.0\n",
            "55  32.0        34.0      3   8.0    170.18      140.0\n",
            "35  52.0        38.0      3  16.0    165.10      145.0\n",
            "..   ...         ...    ...   ...       ...        ...\n",
            "1   33.0        36.0      3  12.0    165.10      145.0\n",
            "2   29.0        36.0      5  28.0    160.02      138.6\n",
            "3   36.0        32.0      4   8.0    167.64      138.6\n",
            "4   35.0        34.0      3  24.0    165.10      165.0\n",
            "5   32.0        34.0      3   1.0    160.02      115.0\n",
            "\n",
            "[82 rows x 6 columns]\n"
          ]
        }
      ]
    },
    {
      "cell_type": "code",
      "source": [
        "print(y)"
      ],
      "metadata": {
        "colab": {
          "base_uri": "https://localhost:8080/"
        },
        "id": "9QkCPl_k24n4",
        "outputId": "97fc0df9-d2a6-4227-c69a-8a36e0f33330"
      },
      "execution_count": 26,
      "outputs": [
        {
          "output_type": "stream",
          "name": "stdout",
          "text": [
            "70    4\n",
            "53    4\n",
            "89    2\n",
            "55    1\n",
            "35    4\n",
            "     ..\n",
            "1     1\n",
            "2     1\n",
            "3     4\n",
            "4     1\n",
            "5     1\n",
            "Name: body type, Length: 82, dtype: int64\n"
          ]
        }
      ]
    },
    {
      "cell_type": "code",
      "source": [
        "from sklearn.ensemble import RandomForestClassifier\n",
        "model = RandomForestClassifier(n_estimators=100, \n",
        "                               bootstrap = True,\n",
        "                               max_features = 'sqrt')\n",
        "model.fit(X_train, y_train)\n",
        "y_pred = model.predict(X_test)\n",
        "print(classification_report(y_test, y_pred))\n",
        "print('Accuracy of Random forest classifier on training set: {:.2f}'\n",
        "    .format(model.score(X_train, y_train)))\n",
        "print('Accuracy of Random forest classifier on test set: {:.2f}'\n",
        "     .format(model.score(X_test, y_test)))\n"
      ],
      "metadata": {
        "colab": {
          "base_uri": "https://localhost:8080/"
        },
        "id": "DNcktku724qH",
        "outputId": "d83e317f-97fa-439a-f71a-3d7d55292c20"
      },
      "execution_count": 27,
      "outputs": [
        {
          "output_type": "stream",
          "name": "stdout",
          "text": [
            "              precision    recall  f1-score   support\n",
            "\n",
            "           1       0.17      0.33      0.22         6\n",
            "           2       0.00      0.00      0.00         3\n",
            "           3       0.00      0.00      0.00         3\n",
            "           4       0.00      0.00      0.00         4\n",
            "           5       0.00      0.00      0.00         3\n",
            "           6       0.50      1.00      0.67         1\n",
            "           7       0.00      0.00      0.00         1\n",
            "\n",
            "    accuracy                           0.14        21\n",
            "   macro avg       0.10      0.19      0.13        21\n",
            "weighted avg       0.07      0.14      0.10        21\n",
            "\n",
            "Accuracy of Random forest classifier on training set: 1.00\n",
            "Accuracy of Random forest classifier on test set: 0.14\n"
          ]
        },
        {
          "output_type": "stream",
          "name": "stderr",
          "text": [
            "/usr/local/lib/python3.7/dist-packages/sklearn/metrics/_classification.py:1318: UndefinedMetricWarning: Precision and F-score are ill-defined and being set to 0.0 in labels with no predicted samples. Use `zero_division` parameter to control this behavior.\n",
            "  _warn_prf(average, modifier, msg_start, len(result))\n",
            "/usr/local/lib/python3.7/dist-packages/sklearn/metrics/_classification.py:1318: UndefinedMetricWarning: Precision and F-score are ill-defined and being set to 0.0 in labels with no predicted samples. Use `zero_division` parameter to control this behavior.\n",
            "  _warn_prf(average, modifier, msg_start, len(result))\n",
            "/usr/local/lib/python3.7/dist-packages/sklearn/metrics/_classification.py:1318: UndefinedMetricWarning: Precision and F-score are ill-defined and being set to 0.0 in labels with no predicted samples. Use `zero_division` parameter to control this behavior.\n",
            "  _warn_prf(average, modifier, msg_start, len(result))\n"
          ]
        }
      ]
    },
    {
      "cell_type": "code",
      "source": [
        "'''\n",
        "from sklearn.neighbors import KNeighborsClassifier\n",
        "knn = KNeighborsClassifier()\n",
        "knn.fit(X_train, y_train)\n",
        "y_pred1 = knn.predict(X_test)\n",
        "#print(confusion_matrix(y_test, y_pred1))\n",
        "print(classification_report(y_test, y_pred1))\n",
        "print('Accuracy of K-NN classifier on training set: {:.2f}'\n",
        "     .format(knn.score(X_train, y_train)))\n",
        "print('Accuracy of K-NN classifier on test set: {:.2f}'\n",
        "     .format(knn.score(X_test, y_test)))\n",
        "\n",
        "'''"
      ],
      "metadata": {
        "colab": {
          "base_uri": "https://localhost:8080/"
        },
        "id": "GT0SwMrvsUVP",
        "outputId": "8379ebd8-3984-46e5-b785-1ea3772782fe"
      },
      "execution_count": 26,
      "outputs": [
        {
          "output_type": "stream",
          "name": "stdout",
          "text": [
            "              precision    recall  f1-score   support\n",
            "\n",
            "           1       0.23      0.60      0.33         5\n",
            "           2       0.33      0.25      0.29         4\n",
            "           3       0.50      0.50      0.50         2\n",
            "           4       0.00      0.00      0.00         6\n",
            "           5       0.00      0.00      0.00         2\n",
            "           6       0.00      0.00      0.00         2\n",
            "           7       0.00      0.00      0.00         0\n",
            "\n",
            "    accuracy                           0.24        21\n",
            "   macro avg       0.15      0.19      0.16        21\n",
            "weighted avg       0.17      0.24      0.18        21\n",
            "\n",
            "Accuracy of K-NN classifier on training set: 0.46\n",
            "Accuracy of K-NN classifier on test set: 0.24\n"
          ]
        },
        {
          "output_type": "stream",
          "name": "stderr",
          "text": [
            "/usr/local/lib/python3.7/dist-packages/sklearn/metrics/_classification.py:1318: UndefinedMetricWarning: Precision and F-score are ill-defined and being set to 0.0 in labels with no predicted samples. Use `zero_division` parameter to control this behavior.\n",
            "  _warn_prf(average, modifier, msg_start, len(result))\n",
            "/usr/local/lib/python3.7/dist-packages/sklearn/metrics/_classification.py:1318: UndefinedMetricWarning: Recall and F-score are ill-defined and being set to 0.0 in labels with no true samples. Use `zero_division` parameter to control this behavior.\n",
            "  _warn_prf(average, modifier, msg_start, len(result))\n",
            "/usr/local/lib/python3.7/dist-packages/sklearn/metrics/_classification.py:1318: UndefinedMetricWarning: Precision and F-score are ill-defined and being set to 0.0 in labels with no predicted samples. Use `zero_division` parameter to control this behavior.\n",
            "  _warn_prf(average, modifier, msg_start, len(result))\n",
            "/usr/local/lib/python3.7/dist-packages/sklearn/metrics/_classification.py:1318: UndefinedMetricWarning: Recall and F-score are ill-defined and being set to 0.0 in labels with no true samples. Use `zero_division` parameter to control this behavior.\n",
            "  _warn_prf(average, modifier, msg_start, len(result))\n",
            "/usr/local/lib/python3.7/dist-packages/sklearn/metrics/_classification.py:1318: UndefinedMetricWarning: Precision and F-score are ill-defined and being set to 0.0 in labels with no predicted samples. Use `zero_division` parameter to control this behavior.\n",
            "  _warn_prf(average, modifier, msg_start, len(result))\n",
            "/usr/local/lib/python3.7/dist-packages/sklearn/metrics/_classification.py:1318: UndefinedMetricWarning: Recall and F-score are ill-defined and being set to 0.0 in labels with no true samples. Use `zero_division` parameter to control this behavior.\n",
            "  _warn_prf(average, modifier, msg_start, len(result))\n"
          ]
        }
      ]
    },
    {
      "cell_type": "code",
      "source": [
        "age_Preprocessed_testdata=preprocessAge(test)\n",
        "testdata_bust_size_cleansed=preprocessBustsize(age_Preprocessed_testdata)\n",
        "testdata_bust_size_cleansed=preprocessHeight(testdata_bust_size_cleansed)\n",
        "testdata_bust_size_cleansed=preprocessWeight(testdata_bust_size_cleansed)\n",
        "testdata_bust_size_cleansed=preprocessRentedFor(testdata_bust_size_cleansed)\n",
        "cleansedTestData=preprocessBodytype(testdata_bust_size_cleansed)\n",
        "final_test_df=createFinalTestDataframe(cleansedTestData)"
      ],
      "metadata": {
        "id": "JHBXyv4D4QNC",
        "colab": {
          "base_uri": "https://localhost:8080/"
        },
        "outputId": "ada0602a-a6ab-4aba-d71e-a50e4436cd81"
      },
      "execution_count": 28,
      "outputs": [
        {
          "output_type": "stream",
          "name": "stderr",
          "text": [
            "/usr/local/lib/python3.7/dist-packages/ipykernel_launcher.py:3: SettingWithCopyWarning: \n",
            "A value is trying to be set on a copy of a slice from a DataFrame.\n",
            "Try using .loc[row_indexer,col_indexer] = value instead\n",
            "\n",
            "See the caveats in the documentation: https://pandas.pydata.org/pandas-docs/stable/user_guide/indexing.html#returning-a-view-versus-a-copy\n",
            "  This is separate from the ipykernel package so we can avoid doing imports until\n",
            "/usr/local/lib/python3.7/dist-packages/pandas/core/frame.py:3641: SettingWithCopyWarning: \n",
            "A value is trying to be set on a copy of a slice from a DataFrame.\n",
            "Try using .loc[row_indexer,col_indexer] = value instead\n",
            "\n",
            "See the caveats in the documentation: https://pandas.pydata.org/pandas-docs/stable/user_guide/indexing.html#returning-a-view-versus-a-copy\n",
            "  self[k1] = value[k2]\n",
            "/usr/local/lib/python3.7/dist-packages/ipykernel_launcher.py:9: SettingWithCopyWarning: \n",
            "A value is trying to be set on a copy of a slice from a DataFrame.\n",
            "Try using .loc[row_indexer,col_indexer] = value instead\n",
            "\n",
            "See the caveats in the documentation: https://pandas.pydata.org/pandas-docs/stable/user_guide/indexing.html#returning-a-view-versus-a-copy\n",
            "  if __name__ == '__main__':\n"
          ]
        }
      ]
    },
    {
      "cell_type": "code",
      "source": [
        "feature_names = ['age', 'bust Size1','bust1','size','heightCM','weightLbs','rented for','user_id']\n",
        "testdata = final_test_df[feature_names]"
      ],
      "metadata": {
        "id": "PdMNEqXt4QQC"
      },
      "execution_count": 29,
      "outputs": []
    },
    {
      "cell_type": "code",
      "source": [
        "for col in testdata.columns:\n",
        "    print(col)"
      ],
      "metadata": {
        "colab": {
          "base_uri": "https://localhost:8080/"
        },
        "id": "_5s8HaXX7LsT",
        "outputId": "24a0b8b9-d397-48c3-c93f-c3a691e4299e"
      },
      "execution_count": 30,
      "outputs": [
        {
          "output_type": "stream",
          "name": "stdout",
          "text": [
            "age\n",
            "bust Size1\n",
            "bust1\n",
            "size\n",
            "heightCM\n",
            "weightLbs\n",
            "rented for\n",
            "user_id\n"
          ]
        }
      ]
    },
    {
      "cell_type": "code",
      "source": [
        "print(testdata)"
      ],
      "metadata": {
        "colab": {
          "base_uri": "https://localhost:8080/"
        },
        "id": "actQUqww4QSy",
        "outputId": "56e1007e-11b3-40ff-b414-e0634ccb8265"
      },
      "execution_count": 31,
      "outputs": [
        {
          "output_type": "stream",
          "name": "stdout",
          "text": [
            "      age  bust Size1  bust1  size  heightCM   weightLbs rented for  user_id\n",
            "100  28.0        34.0    4.0  16.0    154.94  145.000000    wedding   387681\n",
            "61   34.0        34.0    2.0   8.0    165.10  143.555556      party   242517\n",
            "68   29.0        36.0    2.0   8.0    152.40  143.555556    wedding   324412\n",
            "26   31.0        32.0    3.0   4.0    152.40  110.000000      party   462921\n",
            "78   40.0        32.0    2.0   8.0    165.10  125.000000      party   456500\n",
            "51   32.0        34.0    2.0   4.0    162.56  112.000000      party   145159\n",
            "86   31.0        34.0    2.0  17.0    167.64  130.000000    wedding   220030\n",
            "37   32.0        38.0    4.0  39.0    172.72  215.000000      other   518720\n",
            "80   32.0        36.0    4.0  16.0    160.02  151.000000    wedding   588841\n",
            "65   37.0        32.0    4.0  16.0    165.10  150.000000      party   991757\n",
            "28   28.0        34.0    1.0  16.0    172.72  155.000000       date   430607\n",
            "34   87.0        34.0    4.0  16.0    172.72  150.000000    wedding   286197\n",
            "84   45.0        32.0    6.0  14.0    167.64  133.000000      party   967253\n",
            "5    45.0        32.0    2.0   8.0    172.72  138.000000       date   734848\n",
            "17   38.0        34.0    2.0   8.0    157.48  125.000000      other   321146\n",
            "40   29.0        36.0    3.0  20.0    170.18  160.000000      party   567949\n",
            "58   48.0        34.0    1.0   4.0    162.56  118.000000       work   766954\n",
            "0    33.0        32.0    2.0  20.0    172.72  182.000000      party   329001\n",
            "2    55.0         NaN    NaN  16.0    170.18  145.000000    wedding   450176\n",
            "0    27.0        34.0    1.0   8.0    175.26  140.000000   everyday   549001\n"
          ]
        }
      ]
    },
    {
      "cell_type": "code",
      "source": [
        "import matplotlib.pyplot as plt\n",
        "import matplotlib.image as mpimg"
      ],
      "metadata": {
        "id": "4a67cGqu-bgM"
      },
      "execution_count": 32,
      "outputs": []
    },
    {
      "cell_type": "code",
      "source": [
        "#%cd .."
      ],
      "metadata": {
        "id": "RsfxYiPePuOT"
      },
      "execution_count": null,
      "outputs": []
    },
    {
      "cell_type": "code",
      "source": [
        "print(final_df)"
      ],
      "metadata": {
        "id": "CoIgJ2ywV3Oq",
        "colab": {
          "base_uri": "https://localhost:8080/"
        },
        "outputId": "abe1457b-e62f-46e1-88bd-61b99404fca6"
      },
      "execution_count": 33,
      "outputs": [
        {
          "output_type": "stream",
          "name": "stdout",
          "text": [
            "     age  body type  bust Size1  bust1  heightCM  product  size  weightLbs\n",
            "70  36.0          4        32.0      3    180.34   58.jpg  16.0      140.0\n",
            "53  33.0          4        36.0      4    165.10  324.jpg  16.0      190.0\n",
            "89  48.0          2        34.0      3    172.72  137.jpg  24.0      138.0\n",
            "55  32.0          1        34.0      3    170.18   85.jpg   8.0      140.0\n",
            "35  52.0          4        38.0      3    165.10   79.jpg  16.0      145.0\n",
            "..   ...        ...         ...    ...       ...      ...   ...        ...\n",
            "1   33.0          1        36.0      3    165.10  126.jpg  12.0      145.0\n",
            "2   29.0          1        36.0      5    160.02  733.jpg  28.0      138.6\n",
            "3   36.0          4        32.0      4    167.64   43.jpg   8.0      138.6\n",
            "4   35.0          1        34.0      3    165.10  671.jpg  24.0      165.0\n",
            "5   32.0          1        34.0      3    160.02  149.jpg   1.0      115.0\n",
            "\n",
            "[82 rows x 8 columns]\n"
          ]
        }
      ]
    },
    {
      "cell_type": "code",
      "source": [
        "#cf_df=[]\n",
        "age = input(\"Enter age:\")\n",
        "bustSize1 = input(\"Enter bust size:\")\n",
        "bust1 = input(\"Enter cup size:\")#bust size-band size\n",
        "size = input(\"Enter size:\")#dress size\n",
        "heightCM = input(\"Enter height cm:\")\n",
        "weightLbs = input(\"Enter weight lbs:\")\n",
        "rented_for = input(\"Enter occasion:\")\n",
        "    \n",
        "xnew=[[age,bustSize1,bust1,size,heightCM,weightLbs]]\n",
        "bodytypenumber=model.predict(xnew)\n",
        "\n",
        "bodytypearray=[\"NaN\",\"hourglass\", \"straight & narrow\", \"pear\",\"athletic\", \"full bust\",\"petite\", \"apple\"]\n",
        "bodytype=np.asanyarray(bodytypearray)[bodytypenumber]\n",
        "print(\"Predicted body type:\",bodytype)#print body type\n",
        "    \n",
        "cluster_df=cleansedData.copy()\n",
        "groupedbybodytype = cluster_df.groupby('body type')\n",
        "for name,group in groupedbybodytype:\n",
        "  if(bodytype==name):\n",
        "    grouped_df=group.copy()\n",
        "  rentedFor=rented_for\n",
        "\n",
        "groupedbybodytype = grouped_df.groupby('rented for')\n",
        "for name,group in groupedbybodytype:\n",
        "  if(rentedFor==name):\n",
        "    cf_df=group.copy()\n",
        "cf_df=cf_df[['user_id','item_id','rating']].copy()\n",
        "    \n",
        "reader = Reader(rating_scale=(1,10))\n",
        "traindata=Dataset.load_from_df(cf_df,reader)\n",
        "trainingSet = traindata.build_full_trainset()\n",
        "    \n",
        "svdAlgo = SVD(n_factors=200,n_epochs=50)\n",
        "svdAlgo.fit(trainingSet)\n",
        "    \n",
        "itemid=cf_df['item_id'].unique()\n",
        "ratingOutput = pd.DataFrame(columns=['item_id', 'rating']) #Create a blank df with 2 columns at first and then append data\n",
        "    \n",
        "for i in range(len(itemid)):\n",
        "  user=cf_df.iloc[i,0] #User_id\n",
        "  item=cf_df.iloc[i,1] #Item_id\n",
        "  output=svdAlgo.predict(user,item,r_ui=None,clip=True,verbose=False)\n",
        "  ratingOutput = ratingOutput.append({'item_id': item, 'rating': output.est}, ignore_index=True)\n",
        "        \n",
        "ratingOutput=ratingOutput.sort_values('rating',ascending=False)\n",
        "outputdf=ratingOutput.head(10).copy()\n",
        "    #print(\"Top 10 recommended items with their predicted ratings:\")\n",
        "    #outputdf.head()\n",
        "rawdf = pd.read_excel(\"dataset_cloth_recom.xlsx\")\n",
        "itemID=outputdf['item_id'].iloc[0]#.astype('int64')\n",
        "print(\"Recommended itemID:\",itemID)\n",
        "finaldf = (rawdf[rawdf['item_id']==itemID].iloc[0])\n",
        "print(\"Recommended category:\",finaldf['category'])\n",
        "finalpro = (rawdf[rawdf['item_id']==itemID].iloc[0])\n",
        "print(\"Occasion:\",finaldf['rented for'])\n",
        "print(\"Recommended product:\",finaldf['product'])\n",
        "plt.imshow(mpimg.imread(finaldf['product']))\n",
        "    \n"
      ],
      "metadata": {
        "colab": {
          "base_uri": "https://localhost:8080/",
          "height": 549
        },
        "id": "cBPrzPB07ZXZ",
        "outputId": "dcbadaa8-4d36-4b93-ad5e-d1aac4065ee1"
      },
      "execution_count": 38,
      "outputs": [
        {
          "name": "stdout",
          "output_type": "stream",
          "text": [
            "Enter age:22\n",
            "Enter bust size:22\n",
            "Enter cup size:22\n",
            "Enter size:222\n",
            "Enter height cm:222\n",
            "Enter weight lbs:122\n",
            "Enter occasion:date\n"
          ]
        },
        {
          "output_type": "stream",
          "name": "stderr",
          "text": [
            "/usr/local/lib/python3.7/dist-packages/sklearn/base.py:451: UserWarning: X does not have valid feature names, but RandomForestClassifier was fitted with feature names\n",
            "  \"X does not have valid feature names, but\"\n"
          ]
        },
        {
          "output_type": "stream",
          "name": "stdout",
          "text": [
            "Predicted body type: ['hourglass']\n",
            "Recommended itemID: 1146825.0\n",
            "Recommended category: dress\n",
            "Occasion: date\n",
            "Recommended product: 671.jpg\n"
          ]
        },
        {
          "output_type": "execute_result",
          "data": {
            "text/plain": [
              "<matplotlib.image.AxesImage at 0x7f5e503a3b10>"
            ]
          },
          "metadata": {},
          "execution_count": 38
        },
        {
          "output_type": "display_data",
          "data": {
            "image/png": "[encoded data removed]",
            "text/plain": [
              "<Figure size 432x288 with 1 Axes>"
            ]
          },
          "metadata": {
            "needs_background": "light"
          }
        }
      ]
    },
    {
      "cell_type": "code",
      "source": [
        "'''\n",
        "@anvil.server.callable\n",
        "def predict(age,bustSize1,bust1,size,heightCM,weightLbs):\n",
        "  classification = model.predict([[age,bustSize1,size,heightCM,weightLbs]])\n",
        "  return classification\n",
        "'''"
      ],
      "metadata": {
        "colab": {
          "base_uri": "https://localhost:8080/",
          "height": 53
        },
        "id": "ANuHHdrFftxn",
        "outputId": "97814658-2d09-4a48-ece0-1ca29f3405c5"
      },
      "execution_count": 41,
      "outputs": [
        {
          "output_type": "execute_result",
          "data": {
            "application/vnd.google.colaboratory.intrinsic+json": {
              "type": "string"
            },
            "text/plain": [
              "'\\n@anvil.server.callable\\ndef predict(age,bustSize1,bust1,size,heightCM,weightLbs):\\n  classification = model.predict([[age,bustSize1,size,heightCM,weightLbs]])\\n  return classification\\n'"
            ]
          },
          "metadata": {},
          "execution_count": 41
        }
      ]
    },
    {
      "cell_type": "code",
      "source": [
        "#anvil.server.wait_forever()"
      ],
      "metadata": {
        "colab": {
          "base_uri": "https://localhost:8080/",
          "height": 253
        },
        "id": "Stm7R50fgp-0",
        "outputId": "fd194cb5-9233-4728-97a2-6a37063c2651"
      },
      "execution_count": 40,
      "outputs": [
        {
          "output_type": "error",
          "ename": "KeyboardInterrupt",
          "evalue": "ignored",
          "traceback": [
            "\u001b[0;31m---------------------------------------------------------------------------\u001b[0m",
            "\u001b[0;31mKeyboardInterrupt\u001b[0m                         Traceback (most recent call last)",
            "\u001b[0;32m<ipython-input-40-95cac3476493>\u001b[0m in \u001b[0;36m<module>\u001b[0;34m()\u001b[0m\n\u001b[0;32m----> 1\u001b[0;31m \u001b[0manvil\u001b[0m\u001b[0;34m.\u001b[0m\u001b[0mserver\u001b[0m\u001b[0;34m.\u001b[0m\u001b[0mwait_forever\u001b[0m\u001b[0;34m(\u001b[0m\u001b[0;34m)\u001b[0m\u001b[0;34m\u001b[0m\u001b[0;34m\u001b[0m\u001b[0m\n\u001b[0m",
            "\u001b[0;32m/usr/local/lib/python3.7/dist-packages/anvil/server.py\u001b[0m in \u001b[0;36mwait_forever\u001b[0;34m()\u001b[0m\n\u001b[1;32m    428\u001b[0m     \u001b[0m_get_connection\u001b[0m\u001b[0;34m(\u001b[0m\u001b[0;34m)\u001b[0m\u001b[0;34m\u001b[0m\u001b[0;34m\u001b[0m\u001b[0m\n\u001b[1;32m    429\u001b[0m     \u001b[0;32mwhile\u001b[0m \u001b[0;32mTrue\u001b[0m\u001b[0;34m:\u001b[0m\u001b[0;34m\u001b[0m\u001b[0;34m\u001b[0m\u001b[0m\n\u001b[0;32m--> 430\u001b[0;31m         \u001b[0mtime\u001b[0m\u001b[0;34m.\u001b[0m\u001b[0msleep\u001b[0m\u001b[0;34m(\u001b[0m\u001b[0;36m1\u001b[0m\u001b[0;34m)\u001b[0m\u001b[0;34m\u001b[0m\u001b[0;34m\u001b[0m\u001b[0m\n\u001b[0m",
            "\u001b[0;31mKeyboardInterrupt\u001b[0m: "
          ]
        }
      ]
    },
    {
      "cell_type": "code",
      "source": [
        ""
      ],
      "metadata": {
        "id": "YWFEgXJwkDeg"
      },
      "execution_count": null,
      "outputs": []
    },
    {
      "cell_type": "code",
      "source": [
        ""
      ],
      "metadata": {
        "id": "vVDvsF1BkDPL"
      },
      "execution_count": null,
      "outputs": []
    }
  ]
}